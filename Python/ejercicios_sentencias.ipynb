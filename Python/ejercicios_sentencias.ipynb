{
 "cells": [
  {
   "cell_type": "markdown",
   "metadata": {},
   "source": [
    "<div style=\"text-align: center;\">\n",
    "  <img src=\"https://github.com/Hack-io-Data/Imagenes/blob/main/01-LogosHackio/logo_celeste@4x.png?raw=true\" alt=\"logo hack(io)\" />\n",
    "</div>"
   ]
  },
  {
   "cell_type": "markdown",
   "metadata": {},
   "source": [
    "#### 1. Escribe un programa que determine si un número es par o impar.\n",
    "\n"
   ]
  },
  {
   "cell_type": "code",
   "execution_count": null,
   "metadata": {},
   "outputs": [],
   "source": [
    "numero = int(input(\"Introduce un número cualquiera para saber si es par o impar: \"))\n",
    "\n",
    "if numero <= 0: \n",
    "    print(\"No se puede hacer nada con el\")\n",
    "elif numero % 2 == 0:\n",
    "    print(\"El número\", numero, \"es par\")\n",
    "else:\n",
    "    print(\"El número\", numero, \"es impar\")"
   ]
  },
  {
   "cell_type": "markdown",
   "metadata": {},
   "source": [
    "#### 2. Genera un programa que nos diga si es de noche, de día o tarde según la hora proporcionada por el usuario."
   ]
  },
  {
   "cell_type": "code",
   "execution_count": null,
   "metadata": {},
   "outputs": [],
   "source": [
    "hora = int(input(\"Indica la hora actual introduciendo únicamente el número (0-23) : \"))\n",
    "\n",
    "if hora >= 6 and hora < 12:\n",
    "    print(\"Es de día\")\n",
    "elif hora >= 12 and hora < 19:\n",
    "    print(\"Es de tarde\")\n",
    "else:\n",
    "    print(\"Es de noche\")"
   ]
  },
  {
   "cell_type": "markdown",
   "metadata": {},
   "source": [
    "#### 3. Dado un nombre imprime un saludo personalizado."
   ]
  },
  {
   "cell_type": "code",
   "execution_count": null,
   "metadata": {},
   "outputs": [],
   "source": [
    "nombre = input(\"¿Cómo te llamas?: \")\n",
    "print(\"Encantada de conocerte\", nombre)"
   ]
  },
  {
   "cell_type": "markdown",
   "metadata": {},
   "source": [
    "#### 4. Escribe un programa que determine qué calificación en texto tiene un alumno en base a su calificación numérica. Las reglas de calificación son: \n",
    "\n",
    "- 0 - 69 insuficiente\n",
    "\n",
    "- 70 - 79 bien\n",
    "\n",
    "- 80 - 89 muy bien\n",
    "\n",
    "- 90 - 100 excelente\n"
   ]
  },
  {
   "cell_type": "code",
   "execution_count": null,
   "metadata": {},
   "outputs": [],
   "source": [
    "calificación = int(input(\"Calificación numérica obtenida: \"))\n",
    "\n",
    "if calificación <= 69:\n",
    "    print(\"El resultado de la calificación ha sido: insuficiente\")\n",
    "elif calificación >= 70 and calificación <= 79: \n",
    "    print(\"El resultado de la calificación ha sido: bien\")\n",
    "elif calificación >= 80 and calificación <= 89:\n",
    "    print(\"El resultado de la calificación ha sido: muy bien\")\n",
    "else: \n",
    "    print(\"El resultado de la calificación ha sido: excelente\")"
   ]
  },
  {
   "cell_type": "markdown",
   "metadata": {},
   "source": [
    "#### 5. Escribe un programa que imprima el día de la semana, dado un número del 1 al 7.\n"
   ]
  },
  {
   "cell_type": "code",
   "execution_count": null,
   "metadata": {},
   "outputs": [],
   "source": [
    "día_semana = int(input(\"Introduce el día de la semana en formato numérico (1-7): \"))\n",
    "\n",
    "if día_semana == 1:\n",
    "    print(\"Es lunes\")\n",
    "elif día_semana == 2:\n",
    "    print(\"Es martes\")\n",
    "elif día_semana == 3:\n",
    "    print(\"Es miércoles\")\n",
    "elif día_semana == 4:\n",
    "    print(\"Es jueves\")\n",
    "elif día_semana == 5:\n",
    "    print(\"Es viernes\")\n",
    "elif día_semana == 6: \n",
    "    print(\"Es sábado\")\n",
    "else: \n",
    "    print(\"Es domingo\")"
   ]
  },
  {
   "cell_type": "markdown",
   "metadata": {},
   "source": [
    "#### 6. Escribe un programa que determine si un número es positivo, negativo o cero."
   ]
  },
  {
   "cell_type": "code",
   "execution_count": null,
   "metadata": {},
   "outputs": [],
   "source": [
    "numero2 = int(input(\"Introduce un número cualquiera: \"))\n",
    "\n",
    "if numero2 != 0: \n",
    "    if numero2 > 0:\n",
    "        print(\"El\", numero2, \"es positivo\")\n",
    "    else:\n",
    "        print(\"El\", numero2, \"es negativo\")\n",
    "else:\n",
    "    print(\"El número cero no es considerado ni positivo ni negativo\")"
   ]
  },
  {
   "cell_type": "markdown",
   "metadata": {},
   "source": [
    "#### 7. Escribe un programa que determine si una persona puede conducir o no. La edad mínima para conducir es 18 años. \n"
   ]
  },
  {
   "cell_type": "code",
   "execution_count": null,
   "metadata": {},
   "outputs": [],
   "source": [
    "edad = int(input(\"Introduce tu edad para saber si puedes conducir o no: \"))\n",
    "\n",
    "if edad < 18:\n",
    "    print(\"Todavía no tienes edad para poder conducir\")\n",
    "else: \n",
    "    print(\"Ya tienes edad para poder conducir\")"
   ]
  },
  {
   "cell_type": "markdown",
   "metadata": {},
   "source": [
    "#### 8. Escribe un programa que determine si un estudiante aprobó o suspendió un examen."
   ]
  },
  {
   "cell_type": "code",
   "execution_count": null,
   "metadata": {},
   "outputs": [],
   "source": [
    "examen = int(input(\"¿Qué nota has sacado en el examen (0-10)?: \"))\n",
    "\n",
    "if examen < 5:\n",
    "    print(\"Has suspendido el examen\")\n",
    "else:\n",
    "    print(\"Has aprobado el examen\")"
   ]
  },
  {
   "cell_type": "markdown",
   "metadata": {},
   "source": [
    "#### 9. Escribe un programa que determine si un número es múltiplo de 3 y 5.\n"
   ]
  },
  {
   "cell_type": "code",
   "execution_count": null,
   "metadata": {},
   "outputs": [],
   "source": [
    "multiplo = int(input(\"Introduce un número cualquiera para conocer si es o no múltiplo de 3 y 5: \"))\n",
    "\n",
    "if multiplo % 3 == 0 and multiplo % 5 == 0:\n",
    "    print(\"El número\", multiplo, \"si es múltiplo de 3 y 5\")\n",
    "else: \n",
    "    print(\"El número\", multiplo, \"no es múltiplo de 3 y 5\")"
   ]
  },
  {
   "cell_type": "markdown",
   "metadata": {},
   "source": [
    "#### 10. Escribe un programa que determine si un número es par o impar.\n"
   ]
  },
  {
   "cell_type": "code",
   "execution_count": null,
   "metadata": {},
   "outputs": [],
   "source": [
    "numero = int(input(\"Introduce un número cualquiera para saber si es par o impar: \"))\n",
    "\n",
    "if numero <= 0: \n",
    "    print(\"Es un número negativo, no podemos determinarlo\")\n",
    "elif numero % 2 == 0:\n",
    "    print(\"El número\", numero, \"es par\")\n",
    "else:\n",
    "    print(\"El número\", numero, \"es impar\")"
   ]
  }
 ],
 "metadata": {
  "kernelspec": {
   "display_name": "hackio",
   "language": "python",
   "name": "python3"
  },
  "language_info": {
   "codemirror_mode": {
    "name": "ipython",
    "version": 3
   },
   "file_extension": ".py",
   "mimetype": "text/x-python",
   "name": "python",
   "nbconvert_exporter": "python",
   "pygments_lexer": "ipython3",
   "version": "3.1.-1"
  }
 },
 "nbformat": 4,
 "nbformat_minor": 2
}
