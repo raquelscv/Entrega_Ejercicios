{
 "cells": [
  {
   "cell_type": "markdown",
   "metadata": {},
   "source": [
    "<div style=\"text-align: center;\">\n",
    "  <img src=\"https://github.com/Hack-io-Data/Imagenes/blob/main/01-LogosHackio/logo_celeste@4x.png?raw=true\" alt=\"esquema\" />\n",
    "</div>\n"
   ]
  },
  {
   "cell_type": "markdown",
   "metadata": {},
   "source": [
    "En este ejercicio, se te pedirá que escribas un programa en Python que utilice condicionales para determinar el monto final de una compra en una tienda en línea, después de aplicar un descuento. El programa debe hacer lo siguiente:\n",
    "\n",
    "1. Solicita al usuario que ingrese el precio original de un artículo.\n",
    "\n",
    "2. Pregunta al usuario si tiene un cupón de descuento (respuesta sí o no).\n",
    "\n",
    "3. Si el usuario responde que sí, solicita que ingrese el valor del cupón de descuento.\n",
    "\n",
    "4. Aplica el descuento al precio original del artículo, siempre y cuando el valor del cupón sea válido (es decir, mayor a cero). Por ejemplo, descuento de 15€. \n",
    "\n",
    "5. Muestra el precio final de la compra, teniendo en cuenta el descuento aplicado o sin él. \n",
    "\n",
    "6. Recuerda utilizar estructuras de control de flujo como if, elif y else para llevar a cabo estas acciones en tu programa de Python."
   ]
  },
  {
   "cell_type": "code",
   "execution_count": null,
   "metadata": {},
   "outputs": [],
   "source": [
    "precio_original = float(input(\"Ingresa el precio original del artículo: \"))\n",
    "cupon_descuento = input(\"¿Tienes cupón de descuento (sí/no)?: \")\n",
    "\n",
    "if cupon_descuento == \"sí\":\n",
    "    valor_cupon = float(input(\"Ingrese por favor el valor del cupón de descuento: \"))\n",
    "    if valor_cupon > 0:\n",
    "        valor_final = precio_original - valor_cupon\n",
    "        print(\"El precio final de tu cumpra con el descuento aplicado es de: \", valor_final, \"euros\")\n",
    "    else:\n",
    "        print(\"El valor del cupón no es válido, y por tanto, el precio final de tu compra es de: \", precio_original, \"euros\")\n",
    "else:\n",
    "    print(\"Al no tener cupón de descuento, el precio final de tu compra es de: \", precio_original, \"euros\")"
   ]
  },
  {
   "cell_type": "markdown",
   "metadata": {},
   "source": [
    "Modifica el programa anterior para que el usuario ingrese un porcentaje de descuento en lugar de un valor fijo (por ejemplo, 30%). Aplica el descuento en base al porcentaje ingresado."
   ]
  },
  {
   "cell_type": "code",
   "execution_count": null,
   "metadata": {},
   "outputs": [],
   "source": [
    "precio_original = float(input(\"Ingresa el precio original del artículo: \"))\n",
    "cupon_descuento = input(\"¿Tienes cupón de descuento (sí/no)?: \")\n",
    "\n",
    "if cupon_descuento == \"sí\":\n",
    "    valor_cupon = float(input(\"Ingrese por favor el porcentaje de descuento (sin el símbolo de %): \"))\n",
    "    if valor_cupon > 0:\n",
    "        valor_final = precio_original * (1 - valor_cupon / 100)\n",
    "        print(\"El precio final de tu cumpra con el descuento aplicado es de: \", valor_final, \"euros\")\n",
    "    else:\n",
    "        print(\"El valor del cupón no es válido, y por tanto, el precio final de tu compra es de: \", precio_original, \"euros\")\n",
    "else:\n",
    "    print(\"Al no tener cupón de descuento, el precio final de tu compra es de: \", precio_original, \"euros\")"
   ]
  },
  {
   "cell_type": "markdown",
   "metadata": {},
   "source": [
    "Modifica el programa anterior agregando un límite al descuento, donde el descuento mínimo sea del 5% y el máximo del 50%. Si el usuario ingresa un porcentaje fuera de este rango, notifíquele y aplique el descuento mínimo o máximo según sea el caso."
   ]
  },
  {
   "cell_type": "code",
   "execution_count": null,
   "metadata": {},
   "outputs": [],
   "source": [
    "precio_original = float(input(\"Ingresa el precio original del artículo: \"))\n",
    "cupon_descuento = input(\"¿Tienes cupón de descuento (sí/no)?: \")\n",
    "\n",
    "if cupon_descuento == \"sí\":\n",
    "    valor_cupon = float(input(\"Ingrese por favor el porcentaje de descuento (sin el símbolo de %): \"))\n",
    "    if valor_cupon >= 5 and valor_cupon <= 50:\n",
    "        valor_final = precio_original * (1 - valor_cupon / 100)\n",
    "        print(\"El precio final de tu cumpra con el descuento aplicado es: \", valor_final, \"euros\")\n",
    "    elif valor_cupon > 0 and valor_cupon < 5:\n",
    "      valor_final = precio_original * (1- 0.05)\n",
    "      print(\"El descuento mínimo es del 5%, y con ello, el precio final de tu compra es de: \", valor_final)\n",
    "    elif valor_cupon > 50:\n",
    "      valor_final = precio_original * (1- 0.5)\n",
    "      print(\"El descuento máximo es del 50%, y con ello, el precio final de tu compra es de: \", valor_final)\n",
    "    else:\n",
    "        print(\"El valor del cupón no es válido, y por tanto, el precio final de tu compra es de: \", precio_original, \"euros\")\n",
    "else:\n",
    "    print(\"Al no tener cupón de descuento, el precio final de tu compra es de: \", precio_original, \"euros\")"
   ]
  },
  {
   "cell_type": "markdown",
   "metadata": {},
   "source": [
    "Crea un programa nuevo que permita al usuario ingresar varios artículos, cada uno con su precio original y cupón de descuento. Aplica los descuentos correspondientes a cada producto y muestra el monto total final de la compra."
   ]
  },
  {
   "cell_type": "code",
   "execution_count": null,
   "metadata": {},
   "outputs": [],
   "source": [
    "seguir = True\n",
    "suma_compra = 0\n",
    "\n",
    "while seguir == True:\n",
    "  nombre_articulo = input(\"Ingresa el nombre del artículo: \")\n",
    "  precio_original = float(input(\"Ingresa el precio original del artículo: \"))\n",
    "  cupon_descuento = float(input(\"Ingresa el cupón de descuento para este artículo (sin incluir el símbolo de %): \"))\n",
    "  suma_compra = suma_compra + precio_original * (1- cupon_descuento / 100)\n",
    "  continuar = input(\"¿Tienes más artículos que ingresar? (sí/no): \")\n",
    "  if continuar == \"no\":\n",
    "    seguir = False\n",
    "suma_compra = suma_compra\n",
    "\n",
    "print(\"El monto final de tu compra es de: \", suma_compra, \"euros\")"
   ]
  },
  {
   "cell_type": "markdown",
   "metadata": {},
   "source": [
    "Crea un nuevo programa que permita aplicar descuentos por categorías. En este caso, nuestra tienda aplicará descuentos en función de la categoría (por ejemplo, electrónica, ropa, juguetes). Pregunta al usuario a que categoría pertenece su producto y aplica el descuento correspondiente a la categoría. Debes solicitar al usuario que ingrese la categoría del articulo y el precio para aplicarle el descuento. "
   ]
  },
  {
   "cell_type": "code",
   "execution_count": null,
   "metadata": {},
   "outputs": [],
   "source": [
    "seguir = True\n",
    "valor_final = 0\n",
    "\n",
    "while seguir == True:\n",
    "    categoría_producto = input(\"Ingresa la categoría del artículo comprado (electrónica/ ropa/ juguetes): \")\n",
    "    precio_original = float(input(\"Ingresa el precio original del artículo: \"))\n",
    "    if categoría_producto == \"electrónica\":\n",
    "      valor_final = valor_final + precio_original * (1- 0.2)\n",
    "    elif categoría_producto == \"ropa\":\n",
    "      valor_final = valor_final + precio_original * (1- 0.3)\n",
    "    elif categoría_producto == \"juguetes\":\n",
    "      valor_final = valor_final + precio_original * (1- 0.1)\n",
    "    continuar = input(\"¿Tienes más artículos que ingresar? (sí/no): \")\n",
    "    if continuar == \"no\":\n",
    "        seguir = False\n",
    "valor_final = valor_final\n",
    "\n",
    "print(\"El monto final de tu compra tras aplicar los descuentos correspondientes a cada categoría de producto comprado es de: \", valor_final, \"euros\")"
   ]
  },
  {
   "cell_type": "markdown",
   "metadata": {},
   "source": [
    "Crea un nuevo programa que aplique descuentos automáticos en función de la fecha actual. Aplica un descuento del 10% en compras realizadas entre lunes y viernes o un descuento del 15% en compras realizadas durante los fines de semana."
   ]
  },
  {
   "cell_type": "code",
   "execution_count": null,
   "metadata": {},
   "outputs": [],
   "source": [
    "monto_compra = float(input(\"¿Cuánto es el monto total final de la compra realizada hoy?: \"))\n",
    "dia_semana = input(\"¿Qué día de la semana es hoy? (ingrese un número del 1 al 7, siendo 1 el lunes y 7 el domingo): \")\n",
    "entre_semana = \"12345\"\n",
    "fin_de_semana = \"67\"\n",
    "\n",
    "if dia_semana in entre_semana:\n",
    "    valor_final = monto_compra * (1 - 0.1) \n",
    "    print(\"El precio final de tu compra con el descuento aplicado de entre semana es de: \", valor_final, \"euros\")\n",
    "elif dia_semana in fin_de_semana:\n",
    "    valor_final = monto_compra * (1 - 0.15) \n",
    "    print(\"El precio final de tu compra con el descuento aplicado de fin de semana es de: \", valor_final, \"euros\")"
   ]
  },
  {
   "cell_type": "markdown",
   "metadata": {},
   "source": [
    "Crea un programa nuevo que implemente un sistema de membresía donde los usuarios registrados obtengan un descuento adicional del 5%. Solicita al usuario que ingrese su nombre de usuario y contraseña para verificar su membresía y aplique el descuento adicional si corresponde. \n",
    "\n",
    "📝 Nota: Para este ejercicio solo tendremos un usuario registrado. El usuario es `USUARIO` y la contraseña es  `USUARIO123`. \n"
   ]
  },
  {
   "cell_type": "code",
   "execution_count": null,
   "metadata": {},
   "outputs": [],
   "source": [
    "nombre_usuario = input(\"Ingrese por favor su nombre de usuario: \")\n",
    "contraseña = input(\"Ingrese por favor su contraseña: \")\n",
    "precio_original = float(input(\"Ingresa el precio original del artículo: \"))\n",
    "cupon_descuento = input(\"¿Tienes cupón de descuento (sí/no)?: \")\n",
    "\n",
    "if cupon_descuento == \"sí\":\n",
    "    if nombre_usuario == \"USUARIO\" and contraseña == \"USUARIO123\":\n",
    "        valor_cupon = float(input(\"Ingrese por favor el porcentaje de descuento (sin el símbolo de %): \"))\n",
    "        valor_final = precio_original * (1 - (valor_cupon + 5) / 100)\n",
    "        print(\"Además de su descuento, recibes un descuento adicional del 5% por estar registrado y el precio final de tu compra es de: \", valor_final, \"euros\")\n",
    "    else: \n",
    "        valor_cupon = float(input(\"Ingrese por favor el porcentaje de descuento (sin el símbolo de %): \"))\n",
    "        valor_final = precio_original * (1 - valor_cupon / 100)\n",
    "        print(\"Con el cupón de descuento aplicado, el valor final de tu compra es de: \", valor_final, \"euros\")\n",
    "elif cupon_descuento == \"no\" and nombre_usuario == \"USUARIO\" and contraseña == \"USUARIO123\":\n",
    "    valor_final = precio_original * (1 - 0.05)\n",
    "    print(\"Al no tener cupón descuento pero estar registrado recibe un descuento adicional del 5% y el precio final de tu compra es de: \", valor_final, \"euros\")\n",
    "else:\n",
    "    print(\"Al no tener cupón de descuento y no estar registrado, el precio final de tu compra es de: \", precio_original, \"euros\")"
   ]
  },
  {
   "cell_type": "markdown",
   "metadata": {},
   "source": [
    "Crea un nuevo programa que ofrezca un descuento del 10% adicional si el usuario compra más de 5 artículos del mismo tipo. Debes verificar la cantidad de productos comprados y aplicar el descuento adicional si corresponde.\n"
   ]
  },
  {
   "cell_type": "code",
   "execution_count": null,
   "metadata": {},
   "outputs": [],
   "source": [
    "nombre_articulo = input(\"Ingresa el tipo de artículo comprado: \")\n",
    "tipo_articulo = float(input(\"¿Número de unidades que has comprado ese tipo de artículo?: \"))\n",
    "precio_original = float(input(\"¿Cuánto te ha costado cada unidad de ese tipo de artículo?: \"))\n",
    "cupon_descuento = input(\"¿Tienes cupón de descuento para ese tipo de artículo (sí/no)?: \")\n",
    "\n",
    "if cupon_descuento == \"sí\":\n",
    "  if tipo_articulo < 5:\n",
    "    valor_cupon_descuento = float(input(\"Ingresa el cupón de descuento para este artículo (sin incluir el símbolo de %): \"))\n",
    "    suma_compra = (precio_original * (1- valor_cupon_descuento / 100)) * tipo_articulo\n",
    "    print(\"No se le aplica descuento adicional por cantidad, pero con su cupón de descuento el valor de compra total se queda en: \", suma_compra, \"euros\")\n",
    "  else: \n",
    "    valor_cupon_descuento = float(input(\"Ingresa el cupón de descuento para este artículo (sin incluir el símbolo de %): \"))\n",
    "    suma_compra = (precio_original * (1- (valor_cupon_descuento + 10) / 100)) * tipo_articulo\n",
    "    print(\"Al margen de su cupón de descuento, se le aplica un descuento adicional del 10% por cantidad, y el valor de compra total se queda en: \", suma_compra, \"euros\")\n",
    "else:\n",
    "  if tipo_articulo < 5:\n",
    "    suma_compra = precio_original * tipo_articulo\n",
    "    print(\"Lo sentimos, no se le aplica ningún descuento, ni por cantidad. El valor de compra total se queda en: \", suma_compra, \"euros\")\n",
    "  else: \n",
    "    suma_compra = (precio_original * (1- 0.1)) * tipo_articulo\n",
    "    print(\"Aunque no disponga de cupón de descuento, se le aplica un descuento del 10% por cantidad. El valor de compra total se queda en: \", suma_compra, \"euros\")"
   ]
  },
  {
   "cell_type": "markdown",
   "metadata": {},
   "source": [
    "Crea un nuevo programa que ofrezca descuentos progresivos en función del volumen de compra. Aplica un descuento del 5% para compras entre 100€ y 200€, un descuento del 10% para compras entre 200€ y 500€ y un descuento del 15% para compras superiores a 500€."
   ]
  },
  {
   "cell_type": "code",
   "execution_count": null,
   "metadata": {},
   "outputs": [],
   "source": [
    "montante_compra = float(input(\"Ingrese su volumen de compra para descubrir si recibe algún descuento: \"))\n",
    "\n",
    "if montante_compra < 100:\n",
    "    print(\"Tu compra no ha superado los 100 euros y por tanto no recibe ningún descuento. El valor final es de: \", montante_compra, \"euros\")\n",
    "elif montante_compra >= 100 and montante_compra <= 200:\n",
    "    valor_final = montante_compra * (1 -  0.05)\n",
    "    print(\"¡Felicidades!, has recibido un descuento del 5% y tu volumen de compra final se queda en: \", valor_final, \"euros\")\n",
    "elif montante_compra > 200 and montante_compra <= 500:\n",
    "    valor_final = montante_compra * (1 -  0.1)\n",
    "    print(\"¡Felicidades!, has recibido un descuento del 10% y tu volumen de compra final se queda en: \", valor_final, \"euros\")\n",
    "else: \n",
    "    valor_final = montante_compra * (1 -  0.15)\n",
    "    print(\"¡Felicidades!, has recibido un descuento del 15% y tu volumen de compra final se queda en: \", valor_final, \"euros\")"
   ]
  },
  {
   "cell_type": "markdown",
   "metadata": {},
   "source": [
    "Crea un nuevo programa  que ofrezca un descuento adicional del 3% si el usuario paga con tarjeta de crédito o débito. Solicita al usuario que ingrese el método de pago y el descuento original, por último aplica el descuento si corresponde."
   ]
  },
  {
   "cell_type": "code",
   "execution_count": null,
   "metadata": {},
   "outputs": [],
   "source": [
    "precio_original = float(input(\"Ingresa el precio original del artículo: \"))\n",
    "pago_tarjeta = input(\"¿Has pagado con tarjeta de crédito o débito (sí/no)?: \")\n",
    "cupon_descuento = input(\"¿Tienes cupón de descuento (sí/no)?: \")\n",
    "\n",
    "if cupon_descuento == \"sí\":\n",
    "    if pago_tarjeta == \"sí\":\n",
    "        valor_cupon = float(input(\"Ingrese por favor el porcentaje de descuento (sin el símbolo de %): \"))\n",
    "        valor_final = precio_original * (1 - (valor_cupon + 3) / 100)\n",
    "        print(\"Además de su descuento, recibes un descuento adicional del 3% por haber pagado con tarjeta y el precio final de tu compra es de: \", valor_final, \"euros\")\n",
    "    else: \n",
    "        valor_cupon = float(input(\"Ingrese por favor el porcentaje de descuento (sin el símbolo de %): \"))\n",
    "        valor_final = precio_original * (1 - valor_cupon / 100)\n",
    "        print(\"Con el cupón de descuento aplicado, el valor final de tu compra es de: \", valor_final, \"euros\")\n",
    "elif cupon_descuento == \"no\" and pago_tarjeta == \"sí\":\n",
    "    valor_final = precio_original * (1 - 0.03)\n",
    "    print(\"Al no tener cupón descuento pero haber pagado con tarjeta recibe un descuento adicional del 3% y el precio final de tu compra es de: \", valor_final, \"euros\")\n",
    "else:\n",
    "    print(\"Al no tener cupón de descuento y no estar registrado, el precio final de tu compra es de: \", precio_original, \"euros\")"
   ]
  }
 ],
 "metadata": {
  "kernelspec": {
   "display_name": "hackio",
   "language": "python",
   "name": "python3"
  },
  "language_info": {
   "codemirror_mode": {
    "name": "ipython",
    "version": 3
   },
   "file_extension": ".py",
   "mimetype": "text/x-python",
   "name": "python",
   "nbconvert_exporter": "python",
   "pygments_lexer": "ipython3",
   "version": "3.1.-1"
  }
 },
 "nbformat": 4,
 "nbformat_minor": 2
}
