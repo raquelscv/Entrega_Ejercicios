{
 "cells": [
  {
   "cell_type": "markdown",
   "metadata": {
    "vscode": {
     "languageId": "plaintext"
    }
   },
   "source": [
    "#### 1. Define un set vacío llamado `mi_set` y luego imprímelo."
   ]
  },
  {
   "cell_type": "code",
   "execution_count": null,
   "metadata": {},
   "outputs": [],
   "source": [
    "mi_set = set()\n",
    "print(mi_set)"
   ]
  },
  {
   "cell_type": "markdown",
   "metadata": {},
   "source": [
    "#### 2. Añade los números `4`, `5` y `6` al set `mi_set`."
   ]
  },
  {
   "cell_type": "code",
   "execution_count": null,
   "metadata": {},
   "outputs": [],
   "source": [
    "mi_set.update({4, 5, 6})\n",
    "print(mi_set)"
   ]
  },
  {
   "cell_type": "markdown",
   "metadata": {},
   "source": [
    "#### 3. Crea un set llamado `colores` con los siguientes elementos: `\"rojo\"`, `\"verde\"`, `\"azul\"`, `\"amarillo\"`, `\"negro\"` `\"blanco\"`.\n"
   ]
  },
  {
   "cell_type": "code",
   "execution_count": null,
   "metadata": {},
   "outputs": [],
   "source": [
    "colores = {\"rojo\", \"verde\", \"azul\", \"amarillo\", \"negro\", \"blanco\"}\n",
    "print(colores)"
   ]
  },
  {
   "cell_type": "markdown",
   "metadata": {},
   "source": [
    "#### 4. Elimina el color 'rojo'  del set `colores`."
   ]
  },
  {
   "cell_type": "code",
   "execution_count": null,
   "metadata": {},
   "outputs": [],
   "source": [
    "colores.remove(\"rojo\")\n",
    "print(colores)"
   ]
  },
  {
   "cell_type": "markdown",
   "metadata": {},
   "source": [
    "#### 5. Verifica si el elemento `\"blanco\"` está presente en el set `colores`."
   ]
  },
  {
   "cell_type": "code",
   "execution_count": null,
   "metadata": {},
   "outputs": [],
   "source": [
    "\"blanco\" in colores"
   ]
  },
  {
   "cell_type": "markdown",
   "metadata": {},
   "source": [
    "#### 6. Crea un nuevo set que contenga todos los elementos de `set1` y `set2`, sin duplicados.\n",
    "\n",
    "```python\n",
    "set1 = {1, 2, 3}\n",
    "set2 = {3, 4, 5}\n",
    "```"
   ]
  },
  {
   "cell_type": "code",
   "execution_count": null,
   "metadata": {},
   "outputs": [],
   "source": [
    "set1 = {1, 2, 3}\n",
    "set2 = {3, 4, 5}"
   ]
  },
  {
   "cell_type": "code",
   "execution_count": null,
   "metadata": {},
   "outputs": [],
   "source": [
    "set_union = set1.union(set2)\n",
    "print(set_union)"
   ]
  },
  {
   "cell_type": "markdown",
   "metadata": {},
   "source": [
    "#### 7. Encuentra los elementos comunes entre `setA` y `setB`.\n",
    "\n",
    "```python\n",
    "setA = {1, 2, 3, 4}\n",
    "setB = {3, 4, 5, 6}\n",
    "```"
   ]
  },
  {
   "cell_type": "code",
   "execution_count": null,
   "metadata": {},
   "outputs": [],
   "source": [
    "setA = {1, 2, 3, 4}\n",
    "setB = {3, 4, 5, 6}"
   ]
  },
  {
   "cell_type": "code",
   "execution_count": null,
   "metadata": {},
   "outputs": [],
   "source": [
    "set_inter = setA.intersection(setB)\n",
    "print(set_inter)"
   ]
  },
  {
   "cell_type": "markdown",
   "metadata": {},
   "source": [
    "#### 8. Encuentra los elementos en `setX` que no están en `setY`.\n",
    "\n",
    "```python\n",
    "setX = {1, 2, 3, 4}\n",
    "setY = {3, 4, 5, 6}\n",
    "```"
   ]
  },
  {
   "cell_type": "code",
   "execution_count": null,
   "metadata": {},
   "outputs": [],
   "source": [
    "setX = {1, 2, 3, 4}\n",
    "setY = {3, 4, 5, 6}"
   ]
  },
  {
   "cell_type": "code",
   "execution_count": null,
   "metadata": {},
   "outputs": [],
   "source": [
    "set_diff = setX.difference(setY)\n",
    "print(set_diff)"
   ]
  },
  {
   "cell_type": "markdown",
   "metadata": {},
   "source": [
    "#### 9. Encuentra los elementos que están en `setP` o `setQ`, pero no en ambos.\n",
    "\n",
    "```python\n",
    "setP = {1, 2, 3, 4}\n",
    "setQ = {3, 4, 5, 6}\n",
    "```"
   ]
  },
  {
   "cell_type": "code",
   "execution_count": null,
   "metadata": {},
   "outputs": [],
   "source": [
    "setP = {1, 2, 3, 4}\n",
    "setQ = {3, 4, 5, 6}"
   ]
  },
  {
   "cell_type": "code",
   "execution_count": null,
   "metadata": {},
   "outputs": [],
   "source": [
    "set_sym = set1.symmetric_difference(set2)\n",
    "print(set_sym)"
   ]
  },
  {
   "cell_type": "markdown",
   "metadata": {},
   "source": [
    "#### 10. Comprueba si `setA` es un subconjunto de `setB`.\n",
    "\n",
    "```python\n",
    "setA = {1, 2, 3}\n",
    "setB = {1, 2, 3, 4, 5}\n",
    "```"
   ]
  },
  {
   "cell_type": "code",
   "execution_count": null,
   "metadata": {},
   "outputs": [],
   "source": [
    "setA = {1, 2, 3}\n",
    "setB = {1, 2, 3, 4, 5}"
   ]
  },
  {
   "cell_type": "code",
   "execution_count": null,
   "metadata": {},
   "outputs": [],
   "source": [
    "setA.issubset(setB)"
   ]
  },
  {
   "cell_type": "markdown",
   "metadata": {},
   "source": [
    "#### 11. Comprueba si `setM` y `setN` no tienen elementos en común.\n",
    "\n",
    "```python\n",
    "setM = {1, 2, 3}\n",
    "setN = {4, 5, 6}\n",
    "```"
   ]
  },
  {
   "cell_type": "code",
   "execution_count": null,
   "metadata": {},
   "outputs": [],
   "source": [
    "setM = {1, 2, 3}\n",
    "setN = {4, 5, 6}"
   ]
  },
  {
   "cell_type": "code",
   "execution_count": null,
   "metadata": {},
   "outputs": [],
   "source": [
    "setM.isdisjoint(setN)"
   ]
  },
  {
   "cell_type": "markdown",
   "metadata": {},
   "source": [
    "#### 12. Vacía el set `conjunto` de manera que no contenga ningún elemento.\n",
    "\n",
    "```python\n",
    "conjunto = {1, 2, 3, 4, 5}\n",
    "```"
   ]
  },
  {
   "cell_type": "code",
   "execution_count": null,
   "metadata": {},
   "outputs": [],
   "source": [
    "conjunto = {1, 2, 3, 4, 5}"
   ]
  },
  {
   "cell_type": "code",
   "execution_count": null,
   "metadata": {},
   "outputs": [],
   "source": [
    "conjunto.clear()\n",
    "print(conjunto)"
   ]
  },
  {
   "cell_type": "markdown",
   "metadata": {},
   "source": [
    "#### 13. Crea un set llamado `numeros_set` que contenga los elementos de `lista_numeros`.\n",
    "\n",
    "```python\n",
    "lista_numeros = [1, 2, 3, 4, 5]\n",
    "```\n"
   ]
  },
  {
   "cell_type": "code",
   "execution_count": null,
   "metadata": {},
   "outputs": [],
   "source": [
    "lista_numeros = [1, 2, 3, 4, 5]"
   ]
  },
  {
   "cell_type": "code",
   "execution_count": null,
   "metadata": {},
   "outputs": [],
   "source": [
    "numeros_set = set(lista_numeros)\n",
    "print(numeros_set)"
   ]
  },
  {
   "cell_type": "markdown",
   "metadata": {},
   "source": [
    "#### 14. Añade las letras `\"o\"` y `\"u\"` al set `vocales`.\n",
    "\n",
    "```python\n",
    "vocales = {\"a\", \"e\", \"i\"}\n",
    "```"
   ]
  },
  {
   "cell_type": "code",
   "execution_count": null,
   "metadata": {},
   "outputs": [],
   "source": [
    "vocales = {\"a\", \"e\", \"i\"}"
   ]
  },
  {
   "cell_type": "code",
   "execution_count": null,
   "metadata": {},
   "outputs": [],
   "source": [
    "vocales.update({\"o\", \"u\"})\n",
    "print(vocales)"
   ]
  },
  {
   "cell_type": "markdown",
   "metadata": {},
   "source": [
    "#### 15. Combina `setA` y `setB` utilizando el método `update` para modificar `setA` y agregar los elementos de `setB`.\n",
    "\n",
    "```python\n",
    "setA = {1, 2, 3}\n",
    "setB = {3, 4, 5}\n",
    "```"
   ]
  },
  {
   "cell_type": "code",
   "execution_count": null,
   "metadata": {},
   "outputs": [],
   "source": [
    "setA = {1, 2, 3}\n",
    "setB = {3, 4, 5}"
   ]
  },
  {
   "cell_type": "code",
   "execution_count": null,
   "metadata": {},
   "outputs": [],
   "source": [
    "setA.update(setB)\n",
    "print(setA)"
   ]
  },
  {
   "cell_type": "markdown",
   "metadata": {},
   "source": [
    "#### 16. Elimina `\"conejo\"` del set `animales`.\n",
    "\n",
    "```python\n",
    "animales = {\"gato\", \"perro\", \"conejo\", \"ratón\"}\n",
    "```\n"
   ]
  },
  {
   "cell_type": "code",
   "execution_count": null,
   "metadata": {},
   "outputs": [],
   "source": [
    "animales = {\"gato\", \"perro\", \"conejo\", \"ratón\"}"
   ]
  },
  {
   "cell_type": "code",
   "execution_count": null,
   "metadata": {},
   "outputs": [],
   "source": [
    "animales.remove(\"conejo\")\n",
    "print(animales)"
   ]
  },
  {
   "cell_type": "markdown",
   "metadata": {},
   "source": [
    "#### 17. Calcula cuántos elementos tiene el set `setX` e imprime el resultado.\n",
    "\n",
    "```python\n",
    "setX = {1, 2, 3, 4, 5}\n",
    "```"
   ]
  },
  {
   "cell_type": "code",
   "execution_count": null,
   "metadata": {},
   "outputs": [],
   "source": [
    "setX = {1, 2, 3, 4, 5}"
   ]
  },
  {
   "cell_type": "code",
   "execution_count": null,
   "metadata": {},
   "outputs": [],
   "source": [
    "print(len(setX))"
   ]
  }
 ],
 "metadata": {
  "kernelspec": {
   "display_name": "hackio",
   "language": "python",
   "name": "python3"
  },
  "language_info": {
   "codemirror_mode": {
    "name": "ipython",
    "version": 3
   },
   "file_extension": ".py",
   "mimetype": "text/x-python",
   "name": "python",
   "nbconvert_exporter": "python",
   "pygments_lexer": "ipython3",
   "version": "3.11.8"
  }
 },
 "nbformat": 4,
 "nbformat_minor": 2
}
