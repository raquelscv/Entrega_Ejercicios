{
 "cells": [
  {
   "cell_type": "markdown",
   "metadata": {},
   "source": [
    "<div style=\"text-align: center;\">\n",
    "  <img src=\"https://github.com/Hack-io-Data/Imagenes/blob/main/01-LogosHackio/logo_celeste@4x.png?raw=true\" alt=\"logo hack(io)\" />\n",
    "</div>"
   ]
  },
  {
   "cell_type": "markdown",
   "metadata": {},
   "source": [
    "#### 1. Acceso a valores. Dado el diccionario:\n",
    "\n",
    "```python\n",
    "alumno = {\n",
    "    \"nombre\": \"Laura\",\n",
    "    \"edad\": 22,\n",
    "    \"carrera\": \"Biología\"\n",
    "}\n",
    "```\n",
    "\n",
    "1.1. Accede y muestra el valor asociado con la clave `\"nombre\"`.\n",
    "\n",
    "1.2. Accede y muestra el valor asociado con la clave `\"carrera\"`.\n"
   ]
  },
  {
   "cell_type": "code",
   "execution_count": null,
   "metadata": {},
   "outputs": [],
   "source": [
    "alumno = {\n",
    "    \"nombre\": \"Laura\",\n",
    "    \"edad\": 22,\n",
    "    \"carrera\": \"Biología\"\n",
    "}"
   ]
  },
  {
   "cell_type": "code",
   "execution_count": null,
   "metadata": {},
   "outputs": [],
   "source": [
    "alumno.get(\"nombre\")"
   ]
  },
  {
   "cell_type": "code",
   "execution_count": null,
   "metadata": {},
   "outputs": [],
   "source": [
    "alumno.get(\"carrera\")"
   ]
  },
  {
   "cell_type": "markdown",
   "metadata": {},
   "source": [
    "#### 2. Actualización de valores. Dado el siguiente diccionario:\n",
    "\n",
    "```python\n",
    "cuenta = {\n",
    "    \"saldo\": 1500,\n",
    "    \"moneda\": \"USD\"\n",
    "}\n",
    "```\n",
    "\n",
    "2.1. Actualiza el valor de la clave `\"saldo\"` a `2000`.\n",
    "\n",
    "2.2. Cambia el valor de `\"moneda\"` a `\"EUR\"`."
   ]
  },
  {
   "cell_type": "code",
   "execution_count": null,
   "metadata": {},
   "outputs": [],
   "source": [
    "cuenta = {\n",
    "    \"saldo\": 1500, \n",
    "    \"moneda\": \"USD\"\n",
    "}"
   ]
  },
  {
   "cell_type": "code",
   "execution_count": null,
   "metadata": {},
   "outputs": [],
   "source": [
    "cuenta[\"saldo\"] = 2000\n",
    "print(cuenta)"
   ]
  },
  {
   "cell_type": "code",
   "execution_count": null,
   "metadata": {},
   "outputs": [],
   "source": [
    "cuenta[\"moneda\"] = \"EUR\"\n",
    "print(cuenta)"
   ]
  },
  {
   "cell_type": "markdown",
   "metadata": {},
   "source": [
    "\n",
    "#### 3. Añadir nuevas claves. Dado el diccionario:\n",
    "\n",
    "```python\n",
    "vehiculo = {\n",
    "    \"marca\": \"Ford\",\n",
    "    \"modelo\": \"Mustang\"\n",
    "}\n",
    "```\n",
    "\n",
    "3.1. Añade una nueva clave `\"año\"` con el valor `2020`.\n",
    "\n",
    "3.2. Añade una nueva clave `\"color\"` con el valor `\"rojo\"`.\n"
   ]
  },
  {
   "cell_type": "code",
   "execution_count": null,
   "metadata": {},
   "outputs": [],
   "source": [
    "vehiculo = {\n",
    "    \"marca\": \"Ford\",\n",
    "    \"modelo\": \"Mustang\"\n",
    "}"
   ]
  },
  {
   "cell_type": "code",
   "execution_count": null,
   "metadata": {},
   "outputs": [],
   "source": [
    "vehiculo[\"año\"] = 2020\n",
    "print(vehiculo)"
   ]
  },
  {
   "cell_type": "code",
   "execution_count": null,
   "metadata": {},
   "outputs": [],
   "source": [
    "vehiculo[\"color\"] = \"rojo\"\n",
    "print(vehiculo)"
   ]
  },
  {
   "cell_type": "markdown",
   "metadata": {},
   "source": [
    "#### 4. Eliminar Claves. Dado el diccionario:\n",
    "\n",
    "```python\n",
    "libro = {\n",
    "    \"título\": \"Cien Años de Soledad\",\n",
    "    \"autor\": \"Gabriel García Márquez\",\n",
    "    \"páginas\": 417\n",
    "}\n",
    "```\n",
    "\n",
    "4.1. Elimina la clave `\"páginas\"`.\n",
    "\n",
    "4.2. Elimina la clave `\"título\"`.\n",
    "\n"
   ]
  },
  {
   "cell_type": "code",
   "execution_count": null,
   "metadata": {},
   "outputs": [],
   "source": [
    "libro = {\n",
    "    \"titulo\": \"Cien Años de Soledad\",\n",
    "    \"autor\": \"Gabriel García Márquez\",\n",
    "    \"páginas\": 417\n",
    "}"
   ]
  },
  {
   "cell_type": "code",
   "execution_count": null,
   "metadata": {},
   "outputs": [],
   "source": [
    "libro.popitem()\n",
    "print(libro)"
   ]
  },
  {
   "cell_type": "code",
   "execution_count": null,
   "metadata": {},
   "outputs": [],
   "source": [
    "libro.pop(\"título\")\n",
    "print(libro)"
   ]
  },
  {
   "cell_type": "markdown",
   "metadata": {},
   "source": [
    "\n",
    "#### 5. Verificación de Existencia de Claves. Dado el diccionario:\n",
    "\n",
    "```python\n",
    "pelicula = {\n",
    "    \"título\": \"Inception\",\n",
    "    \"director\": \"Christopher Nolan\"\n",
    "}\n",
    "```\n",
    "5.1. Verifica si la clave `\"director\"` existe en el diccionario.\n",
    "\n",
    "5.2. Verifica si la clave `\"año\"` existe en el diccionario.\n"
   ]
  },
  {
   "cell_type": "code",
   "execution_count": null,
   "metadata": {},
   "outputs": [],
   "source": [
    "pelicula = {\n",
    "    \"titulo\": \"Inception\",\n",
    "    \"director\": \"Christopher Nolan\"\n",
    "}"
   ]
  },
  {
   "cell_type": "code",
   "execution_count": null,
   "metadata": {},
   "outputs": [],
   "source": [
    "\"director\" in pelicula"
   ]
  },
  {
   "cell_type": "code",
   "execution_count": null,
   "metadata": {},
   "outputs": [],
   "source": [
    "\"año\" in pelicula"
   ]
  },
  {
   "cell_type": "markdown",
   "metadata": {},
   "source": [
    "#### 6. Uso del Método `get`. Dado el diccionario:\n",
    "\n",
    "```python\n",
    "ciudad = {\n",
    "    \"nombre\": \"París\",\n",
    "    \"país\": \"Francia\"\n",
    "}\n",
    "```\n",
    "\n",
    "6.1. Usa el método `get` para obtener el valor de la clave `\"nombre\"`.\n",
    "\n",
    "6.2. Usa el método `get` para obtener el valor de la clave `\"población\"` con un valor predeterminado `\"Desconocido\"`.\n"
   ]
  },
  {
   "cell_type": "code",
   "execution_count": null,
   "metadata": {},
   "outputs": [],
   "source": [
    "ciudad = {\n",
    "    \"nombre\": \"París\",\n",
    "    \"país\": \"Francia\"\n",
    "}"
   ]
  },
  {
   "cell_type": "code",
   "execution_count": null,
   "metadata": {},
   "outputs": [],
   "source": [
    "ciudad.get(\"nombre\")"
   ]
  },
  {
   "cell_type": "code",
   "execution_count": null,
   "metadata": {},
   "outputs": [],
   "source": [
    "ciudad.get(\"población\", \"Desconocido\")"
   ]
  },
  {
   "cell_type": "markdown",
   "metadata": {},
   "source": [
    "#### 7. Actualización con `update`. Dado el diccionario:\n",
    "\n",
    "```python\n",
    "persona = {\n",
    "    \"nombre\": \"Miguel\",\n",
    "    \"correo\": \"miguel@example.com\"\n",
    "}\n",
    "```\n",
    "\n",
    "7.1. Usa el método `update` para añadir las claves `\"edad\"` con valor `30` y `\"teléfono\"` con valor `\"555-1234\"`.\n",
    "\n",
    "7.2. Cambia el valor de la clave `\"correo\"` usando `update`.\n"
   ]
  },
  {
   "cell_type": "code",
   "execution_count": null,
   "metadata": {},
   "outputs": [],
   "source": [
    "persona = {\n",
    "    \"nombre\": \"Miguel\",\n",
    "    \"correo\": \"miguel@example.com\"\n",
    "}"
   ]
  },
  {
   "cell_type": "code",
   "execution_count": null,
   "metadata": {},
   "outputs": [],
   "source": [
    "persona.update({\"edad\": 30})\n",
    "print(persona)"
   ]
  },
  {
   "cell_type": "code",
   "execution_count": null,
   "metadata": {},
   "outputs": [],
   "source": [
    "persona.update({\"teléfono\": \"555-1234\"})\n",
    "print(persona)"
   ]
  },
  {
   "cell_type": "code",
   "execution_count": null,
   "metadata": {},
   "outputs": [],
   "source": [
    "persona.update({\"correo\": \"raquel@example.com\"})\n",
    "print(persona)"
   ]
  }
 ],
 "metadata": {
  "kernelspec": {
   "display_name": "hackio",
   "language": "python",
   "name": "python3"
  },
  "language_info": {
   "codemirror_mode": {
    "name": "ipython",
    "version": 3
   },
   "file_extension": ".py",
   "mimetype": "text/x-python",
   "name": "python",
   "nbconvert_exporter": "python",
   "pygments_lexer": "ipython3",
   "version": "3.12.1"
  }
 },
 "nbformat": 4,
 "nbformat_minor": 2
}
