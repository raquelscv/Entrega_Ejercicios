{
 "cells": [
  {
   "cell_type": "markdown",
   "metadata": {},
   "source": [
    "<div style=\"text-align: center;\">\n",
    "  <img src=\"https://github.com/Hack-io-Data/Imagenes/blob/main/01-LogosHackio/logo_celeste@4x.png?raw=true\" alt=\"esquema\" />\n",
    "</div>\n"
   ]
  },
  {
   "cell_type": "markdown",
   "metadata": {},
   "source": [
    "# Comprobación de calidad de contraseñas\n",
    "\n",
    "En este ejercicio, tendrás que generar un programa que sea capaz de comprobar la calidad de contraseñas. La seguridad de nuestras contraseñas es fundamental para proteger nuestra información personal y evitar posibles ataques cibernéticos. Para ello, vamos a crear una función llamada `verificar_seguridad_contrasena` que evaluará la calidad de una contraseña. Esta función tomará como argumento la contraseña a evaluar y devolverá si la contraseña es segura o no basado en los siguientes criterios:\n",
    "\n",
    "1. La contraseña deberá tener al menos 8 caracteres.\n",
    "\n",
    "2. La contraseña deberá tener al menos una letra mayúscula.\n",
    "\n",
    "3. La contraseña deberá tener al menos una letra minúscula. \n",
    "\n",
    "4. La contraseña deberá tener al menos un número. \n",
    "\n",
    "5. La contraseña deberá tener al menos un caracter especial. \n",
    "\n",
    "6. La contraseña no deberá tener espacios en blanco. \n",
    "\n",
    "7. La contraseña no deberá tener caracteres repetidos. \n"
   ]
  },
  {
   "cell_type": "code",
   "execution_count": null,
   "metadata": {},
   "outputs": [],
   "source": [
    "def verificar_contrasena(contrasena):\n",
    "  contar_caracteres_especiales = []\n",
    "  repeticion_caracteres = []\n",
    "  caracteres_especiales_contrasenas = list(\"!\\\"#$%&'()*+,-./:;<=>?@[\\\\]^_`{|}~\")\n",
    "  numeros = list(\"0123456789\")\n",
    "  contar_numeros = []\n",
    "\n",
    "  for i in contrasena:\n",
    "    if i in caracteres_especiales_contrasenas:\n",
    "      contar_caracteres_especiales.append(i)\n",
    "  \n",
    "    if i in numeros:\n",
    "      contar_numeros.append(i)\n",
    "\n",
    "    if i not in repeticion_caracteres:\n",
    "      repeticion_caracteres.append(i)\n",
    "    \n",
    "  if len(contrasena) >= 8 and contrasena.islower() == False and contrasena.isupper() == False and len(contar_numeros) >= 1 and \" \" not in contrasena and len(contar_caracteres_especiales) >= 1 and len(contrasena) == len(repeticion_caracteres):\n",
    "    return f\"Contraseña segura\"\n",
    "  else:\n",
    "    return f\"Contraseña no segura\""
   ]
  }
 ],
 "metadata": {
  "kernelspec": {
   "display_name": "hackio",
   "language": "python",
   "name": "python3"
  },
  "language_info": {
   "codemirror_mode": {
    "name": "ipython",
    "version": 3
   },
   "file_extension": ".py",
   "mimetype": "text/x-python",
   "name": "python",
   "nbconvert_exporter": "python",
   "pygments_lexer": "ipython3",
   "version": "3.12.1"
  }
 },
 "nbformat": 4,
 "nbformat_minor": 2
}
