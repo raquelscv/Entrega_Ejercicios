{
 "cells": [
  {
   "cell_type": "markdown",
   "metadata": {},
   "source": [
    "<div style=\"text-align: center;\">\n",
    "  <img src=\"https://github.com/Hack-io-Data/Imagenes/blob/main/01-LogosHackio/logo_celeste@4x.png?raw=true\" alt=\"logo hack(io)\" />\n",
    "</div>"
   ]
  },
  {
   "cell_type": "markdown",
   "metadata": {},
   "source": [
    "####  1. Genera una lista de números del 0 al 4 y luego imprime cada número en la lista usando un `bucle for`. "
   ]
  },
  {
   "cell_type": "code",
   "execution_count": null,
   "metadata": {},
   "outputs": [],
   "source": [
    "numeros = [0, 1, 2, 3, 4]\n",
    "\n",
    "for i in numeros:\n",
    "    print(i)"
   ]
  },
  {
   "cell_type": "markdown",
   "metadata": {},
   "source": [
    "#### 2. Itera sobre una lista de frutas y muestra cada fruta en mayúsculas. \n"
   ]
  },
  {
   "cell_type": "code",
   "execution_count": null,
   "metadata": {},
   "outputs": [],
   "source": [
    "frutas = [\"manzana\", \"plátano\", \"fresas\"]\n",
    "\n",
    "for fruta in frutas:\n",
    "    print(fruta.upper())"
   ]
  },
  {
   "cell_type": "markdown",
   "metadata": {},
   "source": [
    "####  3. Genera un bucle while que imprima los números del 0 al 4. \n"
   ]
  },
  {
   "cell_type": "code",
   "execution_count": null,
   "metadata": {},
   "outputs": [],
   "source": [
    "numero_bucle = 0 \n",
    "\n",
    "while numero_bucle < 5:\n",
    "    print(numero_bucle)\n",
    "    numero_bucle = numero_bucle + 1"
   ]
  },
  {
   "cell_type": "markdown",
   "metadata": {},
   "source": [
    "#### 4. Genera un bucle del 0 al 9, pero que se detenga en el 5.\n"
   ]
  },
  {
   "cell_type": "code",
   "execution_count": null,
   "metadata": {},
   "outputs": [],
   "source": [
    "#suponiendo que el 5 tiene que estar también incluido\n",
    "for elemento in range(10):\n",
    "    if elemento < 6:\n",
    "        print(elemento)"
   ]
  },
  {
   "cell_type": "markdown",
   "metadata": {},
   "source": [
    "#### 5. Recorre los números del 0 al 9 e imprime solo los números impares."
   ]
  },
  {
   "cell_type": "code",
   "execution_count": null,
   "metadata": {},
   "outputs": [],
   "source": [
    "for elemento in range(10):\n",
    "    if elemento % 2 != 0:\n",
    "        print(elemento)"
   ]
  },
  {
   "cell_type": "markdown",
   "metadata": {},
   "source": [
    "#### 6. Dada la lista `[10, 20, 30, 40, 50]`, calcula la suma de todos los elementos usando un bucle `for`."
   ]
  },
  {
   "cell_type": "code",
   "execution_count": null,
   "metadata": {},
   "outputs": [],
   "source": [
    "ejercicio6 = [10, 20, 30, 40, 50]\n",
    "suma = 0\n",
    "\n",
    "for i in ejercicio6:\n",
    "    suma = suma + i\n",
    "\n",
    "print(suma)"
   ]
  },
  {
   "cell_type": "markdown",
   "metadata": {},
   "source": [
    "#### 7. Dada la cadena `\"Hola mundo\"`, cuenta cuántas veces aparecen las vocales (`a`, `e`, `i`, `o`, `u`) usando un bucle `for`.\n"
   ]
  },
  {
   "cell_type": "code",
   "execution_count": null,
   "metadata": {},
   "outputs": [],
   "source": [
    "cadena = \"Hola mundo\"\n",
    "contar = 0\n",
    "\n",
    "for i in cadena:\n",
    "    if i == \"a\":\n",
    "        contar = contar + 1\n",
    "    elif i == \"e\":\n",
    "        contar = contar + 1\n",
    "    elif i == \"i\":\n",
    "        contar = contar + 1\n",
    "    elif i == \"o\":\n",
    "        contar = contar + 1\n",
    "    elif i == \"u\":\n",
    "        contar = contar + 1\n",
    "\n",
    "print(contar)"
   ]
  },
  {
   "cell_type": "markdown",
   "metadata": {},
   "source": [
    "#### 8. Dada la cadena `\"Python\"`, usa un bucle `for` para imprimir los caracteres en orden inverso (`n`, `o`, `h`, `t`, `y`, `P`).\n"
   ]
  },
  {
   "cell_type": "code",
   "execution_count": null,
   "metadata": {},
   "outputs": [],
   "source": [
    "cadena = \"Python\"\n",
    "\n",
    "#Para iterar hacia atrás me he ayudado de: https://www.techiedelight.com/es/loop-backwards-python/\n",
    "for letras in reversed(cadena): \n",
    "    print(letras)"
   ]
  },
  {
   "cell_type": "markdown",
   "metadata": {},
   "source": [
    "#### 9. Dada la lista `[1, 2, 3, 4, 5]`, multiplica todos sus elementos usando un bucle `for` y almacena los resultados en una lista nueva. \n"
   ]
  },
  {
   "cell_type": "code",
   "execution_count": null,
   "metadata": {},
   "outputs": [],
   "source": [
    "#Supongo que con multiplicar todos sus elementos hay que hacer (1*2*3*4*5 = 120), y almacenar el 120 en la lista nueva. \n",
    "ejercicio9 = [1, 2, 3, 4, 5]\n",
    "nueva = []\n",
    "multiplicacion = 1\n",
    "\n",
    "for ej in ejercicio9:\n",
    "    multiplicacion = multiplicacion * ej\n",
    "nueva.append(multiplicacion)\n",
    "\n",
    "print(nueva)    "
   ]
  },
  {
   "cell_type": "markdown",
   "metadata": {},
   "source": [
    "#### 10. Dada la lista `[1, 2, 3, 4, 5, 6, 7, 8, 9, 10]`, utiliza un bucle `for` para contar cuántos números son pares y cuántos son impares."
   ]
  },
  {
   "cell_type": "code",
   "execution_count": null,
   "metadata": {},
   "outputs": [],
   "source": [
    "ejercicio10 = [1, 2, 3, 4, 5, 6, 7, 8, 9, 10]\n",
    "pares = 0 \n",
    "impares = 0\n",
    "\n",
    "for num in ejercicio10:\n",
    "    if num % 2 == 0:\n",
    "        pares = pares + 1\n",
    "    else: \n",
    "        impares = impares + 1\n",
    "\n",
    "print(pares)\n",
    "print(impares)"
   ]
  },
  {
   "cell_type": "markdown",
   "metadata": {},
   "source": [
    "#### 11. Escribe un programa que solicite al usuario un número entero positivo (`n`) y calcule la suma de todos los números primos menores o iguales a `n`. Utiliza un bucle `for` para iterar sobre cada número y verifica si es primo."
   ]
  },
  {
   "cell_type": "code",
   "execution_count": null,
   "metadata": {},
   "outputs": [],
   "source": [
    "positivo = int(input(\"Introduce un número entero positivo: \"))\n",
    "suma = 0 \n",
    "\n",
    "#La siguiente función para comprobar si un número es o no primo la saque de: https://es.stackoverflow.com/questions/432729/c%C3%B3mo-hago-una-funci%C3%B3n-para-saber-si-el-n%C3%BAmero-es-primo \n",
    "def es_primo(num):\n",
    "        if num < 2:\n",
    "            return False\n",
    "        for n in range(2, num):\n",
    "             if num % n == 0:\n",
    "                  return False\n",
    "        return True\n",
    "\n",
    "for i in range (2, positivo +1):\n",
    "    if es_primo(i) == True:\n",
    "        suma = suma + i \n",
    "\n",
    "print(suma)"
   ]
  },
  {
   "cell_type": "markdown",
   "metadata": {},
   "source": [
    "#### 12. Escribe un programa que solicite al usuario un número entero positivo (`n`) y luego imprima un patrón de asteriscos como el siguiente ejemplo para `n = 5`:\n",
    "```\n",
    "*\n",
    "**\n",
    "***\n",
    "****\n",
    "*****\n",
    "```\n",
    "Utiliza un bucle `for` anidado para controlar la cantidad de asteriscos en cada línea."
   ]
  },
  {
   "cell_type": "code",
   "execution_count": null,
   "metadata": {},
   "outputs": [],
   "source": [
    "numero = int(input(\"Introduce un número entero positivo: \"))\n",
    "\n",
    "#Para realizar este ejercicio con el bucle for anidado me he ayudado de: https://www.picuino.com/es/python-for-anidados.html y https://www.mclibre.org/consultar/python/lecciones/python-for-2.html \n",
    "for i in range(1, numero+1):\n",
    "  for j in range(i):\n",
    "    print(\"*\", end=\" \")\n",
    "  print()"
   ]
  },
  {
   "cell_type": "markdown",
   "metadata": {},
   "source": [
    "#### 13. Dado un texto, utiliza un bucle `for` para contar cuántas veces aparece cada palabra en el texto. Ignora mayúsculas/minúsculas y los signos de puntuación."
   ]
  },
  {
   "cell_type": "code",
   "execution_count": null,
   "metadata": {},
   "outputs": [],
   "source": [
    "#comienzo con el texto normal\n",
    "texto = \"Hola hola! , soy Raquel\"\n",
    "\n",
    "#lo convierto entero en minúsculas para que se ignoren mayúsculas y minúsculas \n",
    "texto1 = texto.lower()\n",
    "\n",
    "#Para ignorar los signos de puntuación: (sacado de https://keepcoding.io/blog/eliminar-puntuacion-y-acento-en-python/)\n",
    "import string \n",
    "tabla = str.maketrans (' ' , ' ' , string.punctuation)\n",
    "texto2 = texto1.translate(tabla)\n",
    "\n",
    "#para poder iterar por palabras y no por letras, lo transformo a lista el texto\n",
    "texto_transf = texto2.split()\n",
    "\n",
    "#genero una variable para que no me repita las palabras que ya hayan sido contadas\n",
    "palabras_contadas = []\n",
    "\n",
    "for i in texto_transf: \n",
    "    if i not in palabras_contadas:\n",
    "        print(i, \"aparece\", texto_transf.count(i), \"veces\")\n",
    "        palabras_contadas.append(i)"
   ]
  },
  {
   "cell_type": "markdown",
   "metadata": {},
   "source": [
    "#### 14. Escribe un programa que solicite al usuario dos números enteros positivos (`inicio` y `fin`, donde `inicio <= fin`) y luego calcule la suma de los números pares y la suma de los números impares en ese rango. Utiliza un bucle `for` para iterar sobre cada número y una estructura `if-else` para clasificar y sumar los números pares e impares."
   ]
  },
  {
   "cell_type": "code",
   "execution_count": null,
   "metadata": {},
   "outputs": [],
   "source": [
    "#lo he hecho para poder incluir en la suma de los pares e impares también los números de inicio y de fin. \n",
    "numero = int(input(\"Introduce un número entero positivo que es el 'inicio': \"))\n",
    "numero2 = int(input(\"Introduce un número entero positivo que es el 'fin'(debe ser >= que el 'inicio'): \"))\n",
    "\n",
    "sum_pares = 0 \n",
    "sum_impares = 0\n",
    "\n",
    "for i in range(numero, numero2+1):\n",
    "    if i % 2 == 0:\n",
    "        sum_pares = sum_pares + i \n",
    "    else:\n",
    "        sum_impares = sum_impares + i\n",
    "\n",
    "print(sum_pares)\n",
    "print(sum_impares)"
   ]
  },
  {
   "cell_type": "markdown",
   "metadata": {},
   "source": [
    "#### 15. Escribe un programa que solicite al usuario un número entero positivo (`n`) y luego identifique todos los números primos menores o iguales a `n`. Para cada número, imprime si es primo o no usando un bucle `for` y una estructura `if-else` para verificar la condición de primalidad."
   ]
  },
  {
   "cell_type": "code",
   "execution_count": null,
   "metadata": {},
   "outputs": [],
   "source": [
    "numero_positivo = int(input(\"Introduce un número entero positivo: \"))\n",
    "\n",
    "def es_primo(num):\n",
    "        if num < 2:\n",
    "            return False\n",
    "        for n in range(2, num):\n",
    "             if num % n == 0:\n",
    "                  return False\n",
    "        return True\n",
    "\n",
    "for i in range (2, numero_positivo +1):\n",
    "    if es_primo(i) == True:\n",
    "        print(i, \"Es primo\")\n",
    "    else:\n",
    "        print(i, \"No es primo\")"
   ]
  },
  {
   "cell_type": "markdown",
   "metadata": {},
   "source": [
    "#### 16.Dada una lista de precios `[100, 200, 300, 400, 500]`, aplica un descuento del 10% a todos los precios mayores a `250`. Imprime la lista actualizada de precios después de aplicar el descuento utilizando un bucle `for`. "
   ]
  },
  {
   "cell_type": "code",
   "execution_count": null,
   "metadata": {},
   "outputs": [],
   "source": [
    "precios = [100, 200, 300, 400, 500]\n",
    "precios_actualizados = []\n",
    "\n",
    "for i in precios:\n",
    "    if i <= 250:\n",
    "        precio_nuevo = i \n",
    "        precios_actualizados.append(precio_nuevo)\n",
    "    else:  \n",
    "        precio_nuevo = i * 0.9\n",
    "        precios_actualizados.append(precio_nuevo)\n",
    "\n",
    "print(precios_actualizados)"
   ]
  },
  {
   "cell_type": "markdown",
   "metadata": {},
   "source": [
    "#### 17. Dada una lista de calificaciones de estudiantes `[85, 92, 78, 90, 88]`, clasifica a cada estudiante como \"Aprobado\" si la calificación es mayor o igual a `80` y como \"Reprobado\" si es menor a `80`. Imprime el nombre de cada estudiante junto con su estado utilizando un bucle `for` y una estructura `if-else`.\n"
   ]
  },
  {
   "cell_type": "code",
   "execution_count": null,
   "metadata": {},
   "outputs": [],
   "source": [
    "calificaciones = [85, 92, 78, 90, 88]\n",
    "alumnos = [\"Raquel\", \"Jorge\", \"María\", \"Ana\", \"Juan\"]\n",
    "\n",
    "for notas, nombres in zip(calificaciones, alumnos):\n",
    "    if notas >= 80:\n",
    "        notas = \"Aprobado\"\n",
    "    else:\n",
    "        notas = \"Reprobado\"\n",
    "    print(nombres, notas)"
   ]
  },
  {
   "cell_type": "markdown",
   "metadata": {},
   "source": [
    "\n",
    "#### 18. Escribe un programa que solicite al usuario dos números enteros positivos (`inicio`, `fin`) y otro número entero positivo (`divisor`). Encuentra el número más grande en el rango desde `inicio` hasta `fin` que sea divisible por `divisor`. Utiliza un bucle `for` y una estructura `if-else` para verificar y mantener el registro del número más grande divisible por el divisor dado.\n"
   ]
  },
  {
   "cell_type": "code",
   "execution_count": null,
   "metadata": {},
   "outputs": [],
   "source": [
    "#En este ejercicio también estoy dando por hecho que el \"fin\" es mayor que el \"inicio\" y que en el rango están el inicio y el fin incluidos\n",
    "inicio = int(input(\"Introduce un número entero positivo que es el 'inicio': \"))\n",
    "fin = int(input(\"Introduce un número entero positivo que es el 'fin': \"))\n",
    "divisor = int(input(\"Introduce un número entero positivo que es el 'divisor': \"))\n",
    "\n",
    "maximo = max(inicio, fin)\n",
    "\n",
    "#Para verificar que un número es divisible por otro he visitado:  https://programadorwebvalencia.com/python-estrategias-para-saber-si-un-numero-es-divisible-por-otro/#:~:text=Si%20estamos%20trabajando%20con%20n%C3%BAmeros,como%20numero%20%2F%20divisor%20%3D%3D%20entero%20. \n",
    "for i in reversed(range(inicio, fin+1)):\n",
    "    if i == maximo and i % divisor == 0:\n",
    "        print(i)\n",
    "    else:\n",
    "        maximo = maximo -1"
   ]
  }
 ],
 "metadata": {
  "kernelspec": {
   "display_name": "hackio",
   "language": "python",
   "name": "python3"
  },
  "language_info": {
   "codemirror_mode": {
    "name": "ipython",
    "version": 3
   },
   "file_extension": ".py",
   "mimetype": "text/x-python",
   "name": "python",
   "nbconvert_exporter": "python",
   "pygments_lexer": "ipython3",
   "version": "3.1.-1"
  }
 },
 "nbformat": 4,
 "nbformat_minor": 2
}
