{
 "cells": [
  {
   "cell_type": "markdown",
   "metadata": {},
   "source": [
    "\n",
    "<div style=\"text-align: center;\">\n",
    "  <img src=\"https://github.com/Hack-io-Data/Imagenes/blob/main/01-LogosHackio/logo_celeste@4x.png?raw=true\" alt=\"esquema\" />\n",
    "</div>"
   ]
  },
  {
   "cell_type": "markdown",
   "metadata": {},
   "source": [
    "#### 1. Escribe una función sin parámetros que imprima el siguiente mensaje \"¡Hola! Bienvenido.\"\n"
   ]
  },
  {
   "cell_type": "code",
   "execution_count": null,
   "metadata": {},
   "outputs": [],
   "source": [
    "def saludo():\n",
    "    \"\"\"Función que imprime un saludo\n",
    "    \"\"\"\n",
    "    print(\"¡Hola! Bienvenido.\")"
   ]
  },
  {
   "cell_type": "code",
   "execution_count": null,
   "metadata": {},
   "outputs": [],
   "source": [
    "saludo()"
   ]
  },
  {
   "cell_type": "markdown",
   "metadata": {},
   "source": [
    "#### 2. Escribe una función que reciba dos parámetros y devuelva la suma de ambos.\n"
   ]
  },
  {
   "cell_type": "code",
   "execution_count": null,
   "metadata": {},
   "outputs": [],
   "source": [
    "def sumar_parametros (parametro1, parametro2):\n",
    "    \"\"\"Función que devuelve la suma de dos números\n",
    "\n",
    "    Args:\n",
    "        parametro1 (int, float, bool, complex, str): un parámetro de tipo entero, decimal, booleano, complejo o de cadena cualquiera\n",
    "        parametro2 (int, float, bool, complex, str): un parámetro de tipo entero, decimal, booleano, complejo o de cadena cualquiera\n",
    "\n",
    "    Returns:\n",
    "        int, float, complex, str: El resultado de la suma de los dos parámetros seleccionados \n",
    "    \"\"\"\n",
    "    return parametro1+ parametro2"
   ]
  },
  {
   "cell_type": "code",
   "execution_count": null,
   "metadata": {},
   "outputs": [],
   "source": [
    "suma = sumar_parametros (2, 5)\n",
    "print(suma)"
   ]
  },
  {
   "cell_type": "markdown",
   "metadata": {},
   "source": [
    "#### 3. Escribe una función que reciba un número y devuelva True si es par, False si no lo es."
   ]
  },
  {
   "cell_type": "code",
   "execution_count": null,
   "metadata": {},
   "outputs": [],
   "source": [
    "def par_impar(numero):\n",
    "    \"\"\"Función que verifica si un número es par o no\n",
    "\n",
    "    Args:\n",
    "        numero (int): un número entero cualquiera\n",
    "\n",
    "    Returns:\n",
    "        bool: True si es par, False si no lo es\n",
    "    \"\"\"\n",
    "    if numero % 2 == 0:\n",
    "        return True\n",
    "    else:\n",
    "        return False"
   ]
  },
  {
   "cell_type": "code",
   "execution_count": null,
   "metadata": {},
   "outputs": [],
   "source": [
    "resultado = par_impar(3)\n",
    "print(resultado)"
   ]
  },
  {
   "cell_type": "markdown",
   "metadata": {},
   "source": [
    "#### 4. Escribe un función que devuelva un saludo personalizado a una persona dado su nombre. \n"
   ]
  },
  {
   "cell_type": "code",
   "execution_count": null,
   "metadata": {},
   "outputs": [],
   "source": [
    "def saludo_personalizado(nombre):\n",
    "    \"\"\"Función que imprime un saludo personalizado a una persona dado su nombre\n",
    "\n",
    "    Args:\n",
    "        nombre (str): un nombre propio cualquiera\n",
    "\n",
    "    Returns:\n",
    "        str: El saludo personalizado con el nombre propio seleccionado introducido\n",
    "    \"\"\"\n",
    "    return f\"Hola {nombre}, un placer conocerte\""
   ]
  },
  {
   "cell_type": "code",
   "execution_count": null,
   "metadata": {},
   "outputs": [],
   "source": [
    "saludo  = saludo_personalizado(\"Raquel\")\n",
    "print(saludo)"
   ]
  },
  {
   "cell_type": "markdown",
   "metadata": {},
   "source": [
    "#### 5. Escribe una función que sume todos los números que reciba como argumento. La función debe recibir una cantidad variable de argumentos y devolver la suma de todos ellos."
   ]
  },
  {
   "cell_type": "code",
   "execution_count": null,
   "metadata": {},
   "outputs": [],
   "source": [
    "def suma(*numeros):\n",
    "    \"\"\"Función que devuelve la suma de todos aquellos números que reciba como argumento\n",
    "\n",
    "    Returns:\n",
    "        int, float, complex: El resultado de la suma de todos los números introducidos\n",
    "    \"\"\"\n",
    "    return sum(numeros)"
   ]
  },
  {
   "cell_type": "code",
   "execution_count": null,
   "metadata": {},
   "outputs": [],
   "source": [
    "resultado_suma = suma(1, 5, 7, 9)\n",
    "print(resultado_suma)"
   ]
  },
  {
   "cell_type": "markdown",
   "metadata": {},
   "source": [
    "#### 6. Escribe una función que cuente las letras de una palabra y devuelva un diccionario con la cantidad de veces que se repite cada letra \n"
   ]
  },
  {
   "cell_type": "code",
   "execution_count": null,
   "metadata": {},
   "outputs": [],
   "source": [
    "def letras(palabra):\n",
    "    \"\"\"Función que cuenta las letras de una palabra y devuelve un diccionario con la cantidad de veces que se repite cada letra\n",
    "\n",
    "    Args:\n",
    "        palabra (str): Una palabra cualquiera\n",
    "\n",
    "    Returns:\n",
    "        dict: Un diccionario con cada letra que hay y las veces que se repite en la palabra seleccionada\n",
    "    \"\"\"\n",
    "    letras_contadas = []\n",
    "    repeticion = {}\n",
    "    for letra in palabra:\n",
    "        if letra not in letras_contadas:\n",
    "            contar = palabra.count(letra)\n",
    "            repeticion[letra] = contar\n",
    "            letras_contadas.append(letra)\n",
    "    return repeticion"
   ]
  },
  {
   "cell_type": "code",
   "execution_count": null,
   "metadata": {},
   "outputs": [],
   "source": [
    "dicc_letras = letras(\"diccionario\")\n",
    "print(dicc_letras)"
   ]
  },
  {
   "cell_type": "markdown",
   "metadata": {},
   "source": [
    "#### 7. Escribe un función recursiva para calcular el factorial de un número entero no negativo."
   ]
  },
  {
   "cell_type": "code",
   "execution_count": null,
   "metadata": {},
   "outputs": [],
   "source": [
    "#Para este ejercicio me ayudé de la siguiente página: https://ellibrodepython.com/recursividad \n",
    "def factorial(numero):\n",
    "    \"\"\"Función que calcula el factorial de un número entero no negativo\n",
    "\n",
    "    Args:\n",
    "        numero (int): Un número entero no negativo cualquiera\n",
    "\n",
    "    Returns:\n",
    "        int: El factorial del número seleccionado\n",
    "    \"\"\"\n",
    "    if numero == 0:\n",
    "        return 1\n",
    "    else:\n",
    "        return numero * factorial(numero -1)"
   ]
  },
  {
   "cell_type": "code",
   "execution_count": null,
   "metadata": {},
   "outputs": [],
   "source": [
    "resultado_factorial = factorial(5)\n",
    "print(resultado_factorial)"
   ]
  },
  {
   "cell_type": "markdown",
   "metadata": {},
   "source": [
    "#### 8. Escribe una función que tome dos parámetros: `figura` (una cadena que puede ser `\"rectangulo\"`, `\"circulo\"` o `\"triangulo\"`) y `datos` (una tupla con los datos necesarios para calcular el área de la figura). "
   ]
  },
  {
   "cell_type": "code",
   "execution_count": null,
   "metadata": {},
   "outputs": [],
   "source": [
    "#Para poder hacer cálculos con pi, seguí las instrucciones de: https://www.w3schools.com/python/ref_math_pi.asp \n",
    "def area_figura(figura, datos):\n",
    "    \"\"\"Fución que calcula el área de una figura partir de introducir el nombre de la misma y una tupla que contenga aquellos datos necesarios para calcularla\n",
    "\n",
    "    Args:\n",
    "        figura (str): El nombre de una de las tres figuras (rectangulo, triangulo, circulo)\n",
    "        datos (tuple): El valor de la (base, altura) en caso del triangulo y rectangulo. El valor del (radio) en caso del circulo  \n",
    "\n",
    "    Returns:\n",
    "        int, float: El área de la figura escogida a partir de los valores seleccionados necesarios para calcular el área\n",
    "    \"\"\"\n",
    "    import math\n",
    "    if figura == \"rectangulo\":\n",
    "        base = datos[0]\n",
    "        altura = datos[1]\n",
    "        return base * altura\n",
    "    if figura == \"triangulo\":\n",
    "        base = datos [0]\n",
    "        altura = datos [1]\n",
    "        return 0.5 * base * altura\n",
    "    if figura == \"circulo\":\n",
    "        radio = datos\n",
    "        return math.pi * (radio**2)"
   ]
  },
  {
   "cell_type": "code",
   "execution_count": null,
   "metadata": {},
   "outputs": [],
   "source": [
    "result_area = area_figura(\"rectangulo\", (2, 4))\n",
    "print(result_area)"
   ]
  },
  {
   "cell_type": "markdown",
   "metadata": {},
   "source": [
    "#### 9. Escribe una función que tome una lista de números como parámetro y devuelva el número más grande de la lista. No utilices la función `max()` de Python en tu solución."
   ]
  },
  {
   "cell_type": "code",
   "execution_count": null,
   "metadata": {},
   "outputs": [],
   "source": [
    "def max_num(*lista):\n",
    "    \"\"\"Función que devuelve el número más grande de entre los introducidos en una lista \n",
    "\n",
    "    Returns:\n",
    "         int, float: El número mayor de entre los seleccionados\n",
    "    \"\"\"\n",
    "    numero_grande = lista[0]\n",
    "    for i in lista: \n",
    "          if i > numero_grande:\n",
    "               numero_grande = i\n",
    "               return numero_grande"
   ]
  },
  {
   "cell_type": "code",
   "execution_count": null,
   "metadata": {},
   "outputs": [],
   "source": [
    "result_max = max_num(1, 40, 100, 2, 150, 20)\n",
    "print(result_max)"
   ]
  },
  {
   "cell_type": "markdown",
   "metadata": {},
   "source": [
    "#### 10. Escribe una función que tome una cadena como parámetro un texto y devuelva `True` si la cadena es un palíndromo (se lee igual de izquierda a derecha que de derecha a izquierda), y `False` en caso contrario. Ignora los espacios y considera mayúsculas y minúsculas de manera insensible.\n"
   ]
  },
  {
   "cell_type": "code",
   "execution_count": null,
   "metadata": {},
   "outputs": [],
   "source": [
    "def es_palindromo(cadena):\n",
    "    \"\"\"Función que verifica si un texto es o no un palíndromo, ignorando espacios en blanco y sin distinción entre mayúsculas y minúsculas\n",
    "\n",
    "    Args:\n",
    "        cadena (str): Una cadena de texto cualquiera\n",
    "\n",
    "    Returns:\n",
    "        bool: True si es texto introducido es un palíndromo y False si no lo es\n",
    "    \"\"\"\n",
    "    cadena = cadena.lower().replace(\" \", \"\")\n",
    "    return cadena == (cadena)[::-1]"
   ]
  },
  {
   "cell_type": "code",
   "execution_count": null,
   "metadata": {},
   "outputs": [],
   "source": [
    "resultado = es_palindromo(\"Amor a Roma\")\n",
    "print(resultado)"
   ]
  },
  {
   "cell_type": "markdown",
   "metadata": {},
   "source": [
    "#### 11. Escribe una función que tome una cadena como parámetro y devuelva dos valores: la cantidad de vocales y la cantidad de consonantes presentes en la cadena. Ignora los espacios y considera mayúsculas y minúsculas de manera insensible.\n"
   ]
  },
  {
   "cell_type": "code",
   "execution_count": null,
   "metadata": {},
   "outputs": [],
   "source": [
    "def cantidad_tipo_letras(texto):\n",
    "    \"\"\"Función que devuelve la cantidad de vocales y de consonantes que hay en un texto dado\n",
    "\n",
    "    Args:\n",
    "        texto (str): Una cadena de texto cualquiera\n",
    "\n",
    "    Returns:\n",
    "        int: Dos números enteros que son la cantidad de vocales y la cantidad de consonantes en el texto seleccionado\n",
    "    \"\"\"\n",
    "    vocales = \"aeiou\"\n",
    "    vocales_lista = []\n",
    "    consonantes_lista = []\n",
    "    texto = texto.lower().replace(\" \", \"\")\n",
    "    for i in texto: \n",
    "        if i in vocales:\n",
    "            vocales_lista.append(i)\n",
    "        else:\n",
    "            consonantes_lista.append(i)\n",
    "    return len(vocales_lista), len(consonantes_lista)"
   ]
  },
  {
   "cell_type": "code",
   "execution_count": null,
   "metadata": {},
   "outputs": [],
   "source": [
    "vocales_consonantes = cantidad_tipo_letras(\"Hoy hace sol en la calle\")\n",
    "print(vocales_consonantes)"
   ]
  }
 ],
 "metadata": {
  "kernelspec": {
   "display_name": "hackio",
   "language": "python",
   "name": "python3"
  },
  "language_info": {
   "codemirror_mode": {
    "name": "ipython",
    "version": 3
   },
   "file_extension": ".py",
   "mimetype": "text/x-python",
   "name": "python",
   "nbconvert_exporter": "python",
   "pygments_lexer": "ipython3",
   "version": "3.11.8"
  }
 },
 "nbformat": 4,
 "nbformat_minor": 2
}
