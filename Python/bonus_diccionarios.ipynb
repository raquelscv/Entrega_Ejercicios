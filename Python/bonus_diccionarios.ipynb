{
 "cells": [
  {
   "cell_type": "markdown",
   "metadata": {},
   "source": [
    "<div style=\"text-align: center;\">\n",
    "  <img src=\"https://github.com/Hack-io-Data/Imagenes/blob/main/01-LogosHackio/logo_celeste@4x.png?raw=true\" alt=\"esquema\" />\n",
    "</div>"
   ]
  },
  {
   "cell_type": "markdown",
   "metadata": {},
   "source": [
    "\n",
    "En este ejercicios deberéis contestar a una serie de preguntas, usando los datos que os describimos a continuación. Los datos incluyen una lista de ciclistas, cada uno con los siguientes atributos:\n",
    "\n",
    "1. **Nombre**: Nombre del ciclista (por ejemplo, \"Juan\").\n",
    "\n",
    "2. **Apellido**: Apellido del ciclista (por ejemplo, \"Pérez\").\n",
    "\n",
    "3. **Fecha de Nacimiento**: Fecha de nacimiento en formato `YYYY-MM-DD` (por ejemplo, \"1990-05-15\").\n",
    "\n",
    "4. **Nacionalidad**: Nacionalidad del ciclista (por ejemplo, \"Español\").\n",
    "\n",
    "5. **Datos Biométricos**: Incluye atributos adicionales:\n",
    "\n",
    "   - **Edad**: Edad del ciclista (por ejemplo, 32 años).\n",
    "\n",
    "   - **Peso**: Peso en kilogramos (por ejemplo, 70 kg).\n",
    "\n",
    "   - **Altura**: Altura en centímetros (por ejemplo, 175 cm).\n",
    "\n",
    "      Ejemplo de un ciclista:\n",
    "      ```json\n",
    "      {\n",
    "        \"nombre\": \"Juan\",\n",
    "        \"apellido\": \"Pérez\",\n",
    "        \"fecha_nacimiento\": \"1990-05-15\",\n",
    "        \"nacionalidad\": \"Español\",\n",
    "        \"datos_biometricos\": {\n",
    "          \"edad\": 32,\n",
    "          \"peso_kg\": 70,\n",
    "          \"altura_cm\": 175\n",
    "        }\n",
    "      }\n",
    "      ```\n",
    "\n",
    "6. Los datos también incluyen una lista de localizaciones, cada una con los siguientes atributos:\n",
    "\n",
    "    - **Nombre**: Nombre de la localización (por ejemplo, \"París\").\n",
    "\n",
    "    - **Fecha**: Fecha en formato `DD/MM/YYYY` (por ejemplo, \"26/06/2022\").\n",
    "\n",
    "    - **Tipo**: Tipo de localización (por ejemplo, \"Inicio\", \"Etapa\").\n",
    "\n",
    "    - **Distancia**: Distancia en kilómetros desde el inicio (por ejemplo, \"0 km\").\n",
    "\n",
    "    - **Altitud**: Altitud en metros sobre el nivel del mar (por ejemplo, \"0 m\").\n",
    "\n",
    "      Ejemplo de una localización:\n",
    "      ```json\n",
    "      {\n",
    "        \"nombre\": \"París\",\n",
    "        \"fecha\": \"26/06/2022\",\n",
    "        \"tipo\": \"Inicio\",\n",
    "        \"distancia\": \"0 km\",\n",
    "        \"altitud\": \"0 m\"\n",
    "      }\n",
    "      ```\n",
    "\n",
    "\n",
    "\n",
    "\n",
    "```python\n",
    "response = {\n",
    "    'ciclistas': [\n",
    "              {'nombre': 'Juan', 'apellido': 'Pérez', 'fecha_nacimiento': '1990-05-15', 'nacionalidad': 'Español', 'datos_biometricos': {'edad': 32, 'peso_kg': 70, 'altura_cm': 175}},\n",
    "              {'nombre': 'Maria', 'apellido': 'García', 'fecha_nacimiento': '1985-08-20', 'nacionalidad': 'Mexicana', 'datos_biometricos': {'edad': 37, 'peso_kg': 65, 'altura_cm': 168}},\n",
    "              {'nombre': 'Luis', 'apellido': 'Hernández', 'fecha_nacimiento': '1995-02-10', 'nacionalidad': 'Español', 'datos_biometricos': {'edad': 27, 'peso_kg': 68, 'altura_cm': 180}},\n",
    "              {'nombre': 'Ana', 'apellido': 'González', 'fecha_nacimiento': '1992-07-25', 'nacionalidad': 'Español', 'datos_biometricos': {'edad': 32, 'peso_kg': 65, 'altura_cm': 165}},\n",
    "              {'nombre': 'José', 'apellido': 'Rodríguez', 'fecha_nacimiento': '1991-09-10', 'nacionalidad': 'Español', 'datos_biometricos': {'edad': 31, 'peso_kg': 75, 'altura_cm': 185}},\n",
    "              {'nombre': 'María', 'apellido': 'López', 'fecha_nacimiento': '1993-04-20', 'nacionalidad': 'Español', 'datos_biometricos': {'edad': 30, 'peso_kg': 60, 'altura_cm': 160}},\n",
    "              {'nombre': 'Juan', 'apellido': 'Sánchez', 'fecha_nacimiento': '1994-06-15', 'nacionalidad': 'Español', 'datos_biometricos': {'edad': 29, 'peso_kg': 70, 'altura_cm': 175}},\n",
    "              {'nombre': 'Alicia', 'apellido': 'García', 'fecha_nacimiento': '1996-08-20', 'nacionalidad': 'Mexicana', 'datos_biometricos': {'edad': 28, 'peso_kg': 65, 'altura_cm': 168}},\n",
    "              {'nombre': 'José', 'apellido': 'Hernández', 'fecha_nacimiento': '1997-02-10', 'nacionalidad': 'Español', 'datos_biometricos': {'edad': 27, 'peso_kg': 68, 'altura_cm': 180}},\n",
    "              {'nombre': 'María', 'apellido': 'López', 'fecha_nacimiento': '1998-04-20', 'nacionalidad': 'Español', 'datos_biometricos': {'edad': 26, 'peso_kg': 60, 'altura_cm': 160}}\n",
    "                ],\n",
    "    'localizaciones': [\n",
    "              {'nombre': 'París', 'fecha': '26/06/2022', 'tipo': 'Inicio', 'distancia': '0 km', 'altitud': '0 m'},\n",
    "              {'nombre': 'Roubaix', 'fecha': '27/06/2022', 'tipo': 'Etapa', 'distancia': '200 km', 'altitud': '100 m'},\n",
    "              {'nombre': 'Lille', 'fecha': '28/06/2022', 'tipo': 'Etapa', 'distancia': '180 km', 'altitud': '150 m'},\n",
    "              {'nombre': 'Reims', 'fecha': '29/06/2022', 'tipo': 'Etapa', 'distancia': '220 km', 'altitud': '200 m'},\n",
    "              {'nombre': 'Metz', 'fecha': '30/06/2022', 'tipo': 'Etapa', 'distancia': '250 km', 'altitud': '250 m'},\n",
    "              {'nombre': 'Strasbourg', 'fecha': '01/07/2022', 'tipo': 'Etapa', 'distancia': '280 km', 'altitud': '300 m'},\n",
    "              {'nombre': 'Mulhouse', 'fecha': '02/07/2022', 'tipo': 'Etapa', 'distancia': '300 km', 'altitud': '350 m'},\n",
    "              {'nombre': 'Lyon', 'fecha': '03/07/2022', 'tipo': 'Etapa', 'distancia': '350 km', 'altitud': '400 m'},\n",
    "              {'nombre': 'Grenoble', 'fecha': '04/07/2022', 'tipo': 'Etapa', 'distancia': '400 km', 'altitud': '450 m'},\n",
    "              {'nombre': 'Toulouse', 'fecha': '05/07/2022', 'tipo': 'Etapa', 'distancia': '450 km', 'altitud': '500 m'}\n",
    "                   ]\n",
    "}\n",
    "```\n"
   ]
  },
  {
   "cell_type": "markdown",
   "metadata": {},
   "source": [
    "#### 1. ¿Qué tipo de estructura de datos es la variable `response` definida previamente?"
   ]
  },
  {
   "cell_type": "code",
   "execution_count": null,
   "metadata": {},
   "outputs": [],
   "source": [
    "response = {\n",
    "   'ciclistas': [\n",
    "              {'nombre': 'Juan', 'apellido': 'Pérez', 'fecha_nacimiento': '1990-05-15', 'nacionalidad': 'Español', 'datos_biometricos': {'edad': 32, 'peso_kg': 70, 'altura_cm': 175}},\n",
    "              {'nombre': 'Maria', 'apellido': 'García', 'fecha_nacimiento': '1985-08-20', 'nacionalidad': 'Mexicana', 'datos_biometricos': {'edad': 37, 'peso_kg': 65, 'altura_cm': 168}},\n",
    "              {'nombre': 'Luis', 'apellido': 'Hernández', 'fecha_nacimiento': '1995-02-10', 'nacionalidad': 'Español', 'datos_biometricos': {'edad': 27, 'peso_kg': 68, 'altura_cm': 180}},\n",
    "              {'nombre': 'Ana', 'apellido': 'González', 'fecha_nacimiento': '1992-07-25', 'nacionalidad': 'Español', 'datos_biometricos': {'edad': 32, 'peso_kg': 65, 'altura_cm': 165}},\n",
    "              {'nombre': 'José', 'apellido': 'Rodríguez', 'fecha_nacimiento': '1991-09-10', 'nacionalidad': 'Español', 'datos_biometricos': {'edad': 31, 'peso_kg': 75, 'altura_cm': 185}},\n",
    "              {'nombre': 'María', 'apellido': 'López', 'fecha_nacimiento': '1993-04-20', 'nacionalidad': 'Español', 'datos_biometricos': {'edad': 30, 'peso_kg': 60, 'altura_cm': 160}},\n",
    "              {'nombre': 'Juan', 'apellido': 'Sánchez', 'fecha_nacimiento': '1994-06-15', 'nacionalidad': 'Español', 'datos_biometricos': {'edad': 29, 'peso_kg': 70, 'altura_cm': 175}},\n",
    "              {'nombre': 'Alicia', 'apellido': 'García', 'fecha_nacimiento': '1996-08-20', 'nacionalidad': 'Mexicana', 'datos_biometricos': {'edad': 28, 'peso_kg': 65, 'altura_cm': 168}},\n",
    "              {'nombre': 'José', 'apellido': 'Hernández', 'fecha_nacimiento': '1997-02-10', 'nacionalidad': 'Español', 'datos_biometricos': {'edad': 27, 'peso_kg': 68, 'altura_cm': 180}},\n",
    "              {'nombre': 'María', 'apellido': 'López', 'fecha_nacimiento': '1998-04-20', 'nacionalidad': 'Español', 'datos_biometricos': {'edad': 26, 'peso_kg': 60, 'altura_cm': 160}}\n",
    "                ],\n",
    "    'localizaciones': [\n",
    "              {'nombre': 'París', 'fecha': '26/06/2022', 'tipo': 'Inicio', 'distancia': '0 km', 'altitud': '0 m'},\n",
    "              {'nombre': 'Roubaix', 'fecha': '27/06/2022', 'tipo': 'Etapa', 'distancia': '200 km', 'altitud': '100 m'},\n",
    "              {'nombre': 'Lille', 'fecha': '28/06/2022', 'tipo': 'Etapa', 'distancia': '180 km', 'altitud': '150 m'},\n",
    "              {'nombre': 'Reims', 'fecha': '29/06/2022', 'tipo': 'Etapa', 'distancia': '220 km', 'altitud': '200 m'},\n",
    "              {'nombre': 'Metz', 'fecha': '30/06/2022', 'tipo': 'Etapa', 'distancia': '250 km', 'altitud': '250 m'},\n",
    "              {'nombre': 'Strasbourg', 'fecha': '01/07/2022', 'tipo': 'Etapa', 'distancia': '280 km', 'altitud': '300 m'},\n",
    "              {'nombre': 'Mulhouse', 'fecha': '02/07/2022', 'tipo': 'Etapa', 'distancia': '300 km', 'altitud': '350 m'},\n",
    "              {'nombre': 'Lyon', 'fecha': '03/07/2022', 'tipo': 'Etapa', 'distancia': '350 km', 'altitud': '400 m'},\n",
    "              {'nombre': 'Grenoble', 'fecha': '04/07/2022', 'tipo': 'Etapa', 'distancia': '400 km', 'altitud': '450 m'},\n",
    "              {'nombre': 'Toulouse', 'fecha': '05/07/2022', 'tipo': 'Etapa', 'distancia': '450 km', 'altitud': '500 m'}\n",
    "                   ]\n",
    "}\n",
    "\n",
    "type(response)"
   ]
  },
  {
   "cell_type": "markdown",
   "metadata": {
    "vscode": {
     "languageId": "plaintext"
    }
   },
   "source": [
    "#### 2. ¿Cuántos participantes hay en la varible `response`?"
   ]
  },
  {
   "cell_type": "code",
   "execution_count": null,
   "metadata": {},
   "outputs": [
    {
     "ename": "",
     "evalue": "",
     "output_type": "error",
     "traceback": [
      "\u001b[1;31mRunning cells with 'Python 2.7.16' requires the ipykernel package.\n",
      "\u001b[1;31mRun the following command to install 'ipykernel' into the Python environment. \n",
      "\u001b[1;31mCommand: '/System/Library/Frameworks/Python.framework/Versions/2.7/Resources/Python.app/Contents/MacOS/Python -m pip install ipykernel -U --user --force-reinstall'"
     ]
    }
   ],
   "source": [
    "len(response['ciclistas'])"
   ]
  },
  {
   "cell_type": "markdown",
   "metadata": {},
   "source": [
    "#### 3. ¿Cuál es la nacionalidad del primer ciclista?"
   ]
  },
  {
   "cell_type": "code",
   "execution_count": null,
   "metadata": {},
   "outputs": [],
   "source": [
    "response['ciclistas'][0].get('nacionalidad')"
   ]
  },
  {
   "cell_type": "markdown",
   "metadata": {},
   "source": [
    "#### 4. ¿Cuál es la fecha de nacimiento del tercer ciclista?"
   ]
  },
  {
   "cell_type": "code",
   "execution_count": null,
   "metadata": {},
   "outputs": [],
   "source": [
    "response['ciclistas'][2].get('fecha_nacimiento')"
   ]
  },
  {
   "cell_type": "markdown",
   "metadata": {},
   "source": [
    "#### 5. ¿Cuál es el peso en kg del segundo ciclista?"
   ]
  },
  {
   "cell_type": "code",
   "execution_count": null,
   "metadata": {},
   "outputs": [],
   "source": [
    "response['ciclistas'][1]['datos_biometricos'].get('peso_kg')"
   ]
  },
  {
   "cell_type": "markdown",
   "metadata": {},
   "source": [
    "#### 6. ¿Cuál es la altura en cm del último ciclista ?"
   ]
  },
  {
   "cell_type": "code",
   "execution_count": null,
   "metadata": {},
   "outputs": [],
   "source": [
    "response['ciclistas'][9]['datos_biometricos'].get('altura_cm')"
   ]
  },
  {
   "cell_type": "markdown",
   "metadata": {},
   "source": [
    "#### 7. Indica el nombre de los ciclistas que nacieron en el siglo XX. "
   ]
  },
  {
   "cell_type": "code",
   "execution_count": null,
   "metadata": {},
   "outputs": [],
   "source": [
    "ciclistas_siglo_xx = []\n",
    "\n",
    "for ciclista in response['ciclistas']:\n",
    "  if ciclista['fecha_nacimiento'] >= '1901-01-01' and ciclista['fecha_nacimiento'] < '2000-12-31': \n",
    "    ciclistas_siglo_xx.append(ciclista['nombre'])\n",
    "\n",
    "print(ciclistas_siglo_xx)"
   ]
  },
  {
   "cell_type": "markdown",
   "metadata": {},
   "source": [
    "#### 8. ¿Cuál es el nombre completo del cuarto ciclista?"
   ]
  },
  {
   "cell_type": "code",
   "execution_count": null,
   "metadata": {},
   "outputs": [],
   "source": [
    "response['ciclistas'][3].get('nombre') + \" \" + response['ciclistas'][3].get('apellido')"
   ]
  },
  {
   "cell_type": "markdown",
   "metadata": {},
   "source": [
    "#### 9. Genera una lista con el nombre y apellido de cada ciclista. "
   ]
  },
  {
   "cell_type": "code",
   "execution_count": null,
   "metadata": {},
   "outputs": [],
   "source": [
    "nombre_completo = []\n",
    "\n",
    "for ciclista in response['ciclistas']:\n",
    "  nombre_completo.append(ciclista['nombre'] + \" \" + ciclista['apellido'])\n",
    "\n",
    "print(nombre_completo)"
   ]
  },
  {
   "cell_type": "markdown",
   "metadata": {},
   "source": [
    "#### 10. ¿Cuál es la edad del quinto ciclista?"
   ]
  },
  {
   "cell_type": "code",
   "execution_count": null,
   "metadata": {},
   "outputs": [],
   "source": [
    "response['ciclistas'][4]['datos_biometricos'].get('edad')"
   ]
  },
  {
   "cell_type": "markdown",
   "metadata": {},
   "source": [
    "#### 11. ¿Cuál es el apellido del sexto ciclista?"
   ]
  },
  {
   "cell_type": "code",
   "execution_count": null,
   "metadata": {},
   "outputs": [],
   "source": [
    "response['ciclistas'][5].get('apellido')"
   ]
  },
  {
   "cell_type": "markdown",
   "metadata": {},
   "source": [
    "#### 12. ¿Cuál es la nacionalidad del último ciclista?"
   ]
  },
  {
   "cell_type": "code",
   "execution_count": null,
   "metadata": {},
   "outputs": [],
   "source": [
    "response['ciclistas'][9].get('nacionalidad')"
   ]
  },
  {
   "cell_type": "markdown",
   "metadata": {},
   "source": [
    "#### 13. ¿Cuál es la edad media de los ciclistas?"
   ]
  },
  {
   "cell_type": "code",
   "execution_count": null,
   "metadata": {},
   "outputs": [],
   "source": [
    "suma = 0\n",
    "total_ciclistas = len(response['ciclistas'])\n",
    "\n",
    "for ciclista in response['ciclistas']:\n",
    "  suma= suma + (ciclista['datos_biometricos']['edad'])\n",
    "  promedio = suma / total_ciclistas\n",
    "\n",
    "print(promedio)"
   ]
  },
  {
   "cell_type": "markdown",
   "metadata": {},
   "source": [
    "#### 14. ¿Cuántas localizaciones diferentes hay?"
   ]
  },
  {
   "cell_type": "code",
   "execution_count": null,
   "metadata": {},
   "outputs": [],
   "source": [
    "localizaciones_diferentes= []\n",
    "\n",
    "for localizacion in response['localizaciones']:\n",
    "  if localizacion['nombre'] not in localizaciones_diferentes:\n",
    "    localizaciones_diferentes.append(localizacion['nombre'])\n",
    "    longitud = len(localizaciones_diferentes)\n",
    "\n",
    "print(longitud)"
   ]
  },
  {
   "cell_type": "markdown",
   "metadata": {},
   "source": [
    "#### 15. ¿Cuál es el nombre de la primera localización?"
   ]
  },
  {
   "cell_type": "code",
   "execution_count": null,
   "metadata": {},
   "outputs": [],
   "source": [
    "response['localizaciones'][0].get('nombre')"
   ]
  },
  {
   "cell_type": "markdown",
   "metadata": {},
   "source": [
    "#### 16. ¿Cuál es la fecha de la segunda localización?"
   ]
  },
  {
   "cell_type": "code",
   "execution_count": null,
   "metadata": {},
   "outputs": [],
   "source": [
    "response['localizaciones'][1].get('fecha')"
   ]
  },
  {
   "cell_type": "markdown",
   "metadata": {},
   "source": [
    "#### 17. ¿Cuál es el tipo de la tercera localización?"
   ]
  },
  {
   "cell_type": "code",
   "execution_count": null,
   "metadata": {},
   "outputs": [],
   "source": [
    "response['localizaciones'][2].get('tipo')"
   ]
  },
  {
   "cell_type": "markdown",
   "metadata": {},
   "source": [
    "#### 18. ¿Cuál es la distancia de la cuarta localización?"
   ]
  },
  {
   "cell_type": "code",
   "execution_count": null,
   "metadata": {},
   "outputs": [],
   "source": [
    "response['localizaciones'][3].get('distancia')"
   ]
  },
  {
   "cell_type": "markdown",
   "metadata": {},
   "source": [
    "#### 19. ¿Cuál es la localización con mayor distancia?"
   ]
  },
  {
   "cell_type": "code",
   "execution_count": null,
   "metadata": {},
   "outputs": [],
   "source": [
    "distancia_max= \"0\"\n",
    "\n",
    "for localizacion in response['localizaciones']:\n",
    "  if localizacion['distancia'] > distancia_max:\n",
    "    distancia_max = localizacion['distancia']\n",
    "    nombre_localizacion = localizacion['nombre']\n",
    "\n",
    "print(nombre_localizacion)"
   ]
  },
  {
   "cell_type": "markdown",
   "metadata": {},
   "source": [
    "#### 20. ¿Cuál es la altitud de la quinta localización?"
   ]
  },
  {
   "cell_type": "code",
   "execution_count": null,
   "metadata": {},
   "outputs": [],
   "source": [
    "response['localizaciones'][4].get('altitud')"
   ]
  },
  {
   "cell_type": "markdown",
   "metadata": {},
   "source": [
    "#### 21. ¿Cuál es el nombre de la última localización?"
   ]
  },
  {
   "cell_type": "code",
   "execution_count": null,
   "metadata": {},
   "outputs": [],
   "source": [
    "response['localizaciones'][9].get('nombre')"
   ]
  },
  {
   "cell_type": "markdown",
   "metadata": {},
   "source": [
    "#### 22. ¿Cuál es la fecha de la penúltima localización?"
   ]
  },
  {
   "cell_type": "code",
   "execution_count": null,
   "metadata": {},
   "outputs": [],
   "source": [
    "response['localizaciones'][8].get('fecha')"
   ]
  },
  {
   "cell_type": "markdown",
   "metadata": {},
   "source": [
    "#### 23. ¿Cuál es el tipo de la antepenúltima localización?"
   ]
  },
  {
   "cell_type": "code",
   "execution_count": null,
   "metadata": {},
   "outputs": [],
   "source": [
    "response['localizaciones'][7].get('tipo')"
   ]
  },
  {
   "cell_type": "markdown",
   "metadata": {},
   "source": [
    "#### 24. ¿Cuál es la distancia de la cuarta localización?\n"
   ]
  },
  {
   "cell_type": "code",
   "execution_count": null,
   "metadata": {},
   "outputs": [],
   "source": [
    "response['localizaciones'][3].get('distancia')"
   ]
  }
 ],
 "metadata": {
  "kernelspec": {
   "display_name": "contenido",
   "language": "python",
   "name": "python3"
  },
  "language_info": {
   "codemirror_mode": {
    "name": "ipython",
    "version": 3
   },
   "file_extension": ".py",
   "mimetype": "text/x-python",
   "name": "python",
   "nbconvert_exporter": "python",
   "pygments_lexer": "ipython3",
   "version": "2.7.16"
  }
 },
 "nbformat": 4,
 "nbformat_minor": 2
}
